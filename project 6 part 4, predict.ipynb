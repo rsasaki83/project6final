{
 "cells": [
  {
   "cell_type": "markdown",
   "metadata": {},
   "source": [
    "## Mine: Query Wikipedia by page id for content"
   ]
  },
  {
   "cell_type": "code",
   "execution_count": 2,
   "metadata": {
    "collapsed": true
   },
   "outputs": [],
   "source": [
    "import pandas as pd\n",
    "import os "
   ]
  },
  {
   "cell_type": "code",
   "execution_count": 3,
   "metadata": {
    "collapsed": true
   },
   "outputs": [],
   "source": [
    "os.chdir('../project-06')"
   ]
  },
  {
   "cell_type": "code",
   "execution_count": 4,
   "metadata": {
    "collapsed": true
   },
   "outputs": [],
   "source": [
    "import lib.database_module as db\n",
    "import lib.encoding_module as enc\n",
    "import lib.wiki_module as wiki"
   ]
  },
  {
   "cell_type": "code",
   "execution_count": 5,
   "metadata": {
    "collapsed": true
   },
   "outputs": [],
   "source": [
    "import yaml"
   ]
  },
  {
   "cell_type": "code",
   "execution_count": 7,
   "metadata": {
    "collapsed": false
   },
   "outputs": [],
   "source": [
    "with open('config/category.yml') as yaml_file:\n",
    "    category=yaml.load(yaml_file)"
   ]
  },
  {
   "cell_type": "code",
   "execution_count": 8,
   "metadata": {
    "collapsed": false
   },
   "outputs": [
    {
     "data": {
      "text/plain": [
       "{'categories': ['Hip hop']}"
      ]
     },
     "execution_count": 8,
     "metadata": {},
     "output_type": "execute_result"
    }
   ],
   "source": [
    "category"
   ]
  },
  {
   "cell_type": "code",
   "execution_count": 11,
   "metadata": {
    "collapsed": false
   },
   "outputs": [
    {
     "name": "stdout",
     "output_type": "stream",
     "text": [
      "{'categoryid': '708420', 'pages': [{'pageid': 1013441, 'title': 'Template:Hip hop'}, {'pageid': 2632114, 'title': 'Hip hop'}, {'pageid': 18945847, 'title': 'Hip hop music'}, {'pageid': 51210806, 'title': 'Blue Angels Berlin'}, {'pageid': 19253840, 'title': 'Clay (musical)'}, {'pageid': 52257413, 'title': 'Donald Trump in music'}, {'pageid': 52809636, 'title': 'Eazy E & N.W.A. photographs by: Ithaka Darin Pappas'}, {'pageid': 10293114, 'title': 'Flocabulary'}, {'pageid': 3865237, 'title': 'Portal:Hip hop'}, {'pageid': 49524598, 'title': 'Hip hop feminism'}, {'pageid': 52615360, 'title': 'Hip Hop Smithsonian'}, {'pageid': 40632046, 'title': 'Hip-hop based education'}, {'pageid': 38958688, 'title': 'Hip-hop feminism'}, {'pageid': 45240959, 'title': 'Hip-hop in academia'}, {'pageid': 49954410, 'title': 'Hip-Hop in Mauritius'}, {'pageid': 24506048, 'title': 'Hype man'}, {'pageid': 43726112, 'title': 'Jihadism and hip-hop'}, {'pageid': 40994853, 'title': 'Krip Hop'}, {'pageid': 25725439, 'title': 'Misogyny in rap music'}, {'pageid': 2347575, 'title': 'Posse cut'}, {'pageid': 3198514, 'title': 'Rap Snacks'}, {'pageid': 49527190, 'title': 'Raunch aesthetics'}, {'pageid': 230004, 'title': 'Scratching'}, {'pageid': 51876568, 'title': 'Sinan-G'}, {'pageid': 51781703, 'title': 'Themes of Christianity in Hip Hop and Rap Music'}]}\n"
     ]
    }
   ],
   "source": [
    "for cat in category['categories']:\n",
    "    print (wiki.query_category(cat))"
   ]
  },
  {
   "cell_type": "code",
   "execution_count": null,
   "metadata": {
    "collapsed": true
   },
   "outputs": [],
   "source": [
    "{pageid': 52257413, 'title': 'Donald Trump in music}"
   ]
  },
  {
   "cell_type": "code",
   "execution_count": null,
   "metadata": {
    "collapsed": true
   },
   "outputs": [],
   "source": []
  },
  {
   "cell_type": "markdown",
   "metadata": {},
   "source": [
    "## Parse: Encode page as document vector"
   ]
  },
  {
   "cell_type": "code",
   "execution_count": 12,
   "metadata": {
    "collapsed": true
   },
   "outputs": [],
   "source": [
    "page_response=wiki.query_page('52257413')\n",
    "pg_52257413_txt=page_response['text']"
   ]
  },
  {
   "cell_type": "code",
   "execution_count": 13,
   "metadata": {
    "collapsed": false,
    "scrolled": true
   },
   "outputs": [
    {
     "data": {
      "text/plain": [
       "u'Donald Trump in music refers to songs, albums and bands that refer to Donald Trump and his various brands, including Trump Tower, his TV show, his hotel chain, and his casinos. Though recent songs refer to Trumps campaign and subsequent election as president of the United States, more than 200 songs refer to Trump prior to his successful presidential race between 1989 and 2013. With his win of the 2016 presidential bid, Trumps prominence in rap music has been liked to that of Ronald Reagans in hardcore punk during the 1980s. Background Hip hop Trumps name first appeared in hip hop lyrics during the 1980s when the business mogul became an icon of the ultra rich. Among the earliest mentions of Donald Trump in rap lyrics was the Beastie Boys 1989 track Johnny Ryall in which they pit Donald Trump alongside his homeless alter-ego, Donald Tramp. While many rappers praised Trumps wealth, usually comparing their own financial aspirations or success to that of the billionaire businessman, others have used their music as a platform to criticize Trumps practices and politics. Among the earliest of these was The Coup from Oakland, California who critiqued and mocked Trump on their first two albums released in the early 1990s. ESPNs political site FiveThirtyEight documented that between 1989 and 2014, 19% of song lyrics about Trump were negative while 60% were positive. The 2010s marked a shift in hip hop musicians attitude toward Trump as his presence in the public eye shifted from business tycoon to that of a politician making controversial statements against people of color, Latin American people, and Muslims. Because of hip hops close association with these communities and its reinvigorated politicization with the Black Lives Matter movement, lyrical depictions of Trump rapidly grew to be more disparaging throughout his campaign and subsequent election as President of the United States. Many artists have name-checked Trump in more than one song. Pre-presidency, Rick Ross had the most Trump mentions (9 songs between 2008 and 2015) with Nas running second (7 songs between 1996 and 2012). Other major Trump name-checkers include Migos (6 songs between 2013 and 2016), Young Thug (6 songs between 2013 and 2015), Lil Wayne (5 songs between 2000 and 2012) and Raekwon (5 songs between 1995 and 2012). Mac Miller controversy The numerous references to Trump in lyrics have not gone unnoticed by the billionaire. When Mac Millers 2011 song \"Donald Trump\" became a Billboard hit, Trump released a YouTube video congratulating the rapper: A lot of people are calling me about the Mac Miller rap song. Now, its named \"Donald Trump.\" Maybe you should pay me a lot of money, but it just did over 20 million people, tuning into Mac Miller. So in one way, Im proud of him. I havent actually seen the language ... Probably, its not the cleanest language youve ever heard ... But the \"Donald Trump\" song just hit over 20 million, thats not so bad. Im very proud of him. As the song garnered more plays, Trump took a more aggressive tone and demanded royalties for using his name, thereby starting a feud with Miller. In early 2013, Trump threatened the rapper via a series of exchanges on Twitter: Little @MacMiller, you illegally used my name for your song \\u201cDonald Trump\\u201d which now has over 75 million hits. I want the money not the plaque you gave me! I\\u2019m now going to teach you a big boy lesson about lawsuits and finance. You ungrateful dog! I have more hair than you do and there\\u2019s a slight age difference. In 2015 Trump changed his attitude toward Miller again when he ended an interview with The Hill by praising Millers song as it approached 100 million hits. Other styles of music Outside of hip hop, most lyrical references to Trump have appeared in songs ranging from satires of the billionaire, to outright protest in varying degrees of explicitness. One of the earliest Trump send-ups was the 1990 ballad \"Donald Trump (Black Version)\" written by Prince for fellow Minneapolis act The Time in which singer Morris Day calls himself a black version of Donald Trump, who can use his riches to \"fulfill [a womans] every wish, [and her] every dream\". In 1992 Irish folk-rock group Goats Dont Shave had a #4 hit with \"Las Vegas in the Hills of Donegal,\" which references Trumps casino business in imagining an Irish county that becomes a gambling Mecca. More recently, songs like \"Fergus Laing\" by Scottish folk singer Richard Thompson present thinly veiled references to Trump without mentioning him by name, while songs like \"Fucked Up Donald\" by Canadian punk band D.O.A. are more direct. Many songs attack Trump by mocking his supporters through stereotypical portrayals of their views and lifestyles. Phoenix-based comedian Brian Nissen comedian stars as \"Mullets Over America\" spokesman Dwain in the music video \"Make America Great Again\", while Rocky Mountain Mikes cover of \"Mr. Tangerine Man\" remakes the lyrics to be about Trump, with the songs title alluding to the color of his skin. Sung from the perspective of a xenophobic Trump supporter, the song opens: Hey Mr. Tangerine Man, build a wall for me Im not that bright and dont know that youre not going to Hey Mr. Tangerine Man, keep Muslims away from me With my jingoistic worldview, Ill come following you. In October 2016, author Dave Eggers launched a project slated to release one anti-Trump song each day leading up to 2016s election day. Originally called 30 Songs, 30 Days, Eggers plan was to have each song performed by a different artist, but due to more musicians coming through with songs, it grew to be 40, and then 50 songs in 30 days. Eggers worked on the project with Jordan Kurland with whom he had previously worked on two similar election-related projects. Eggers inspiration for the project came when attending a Trump rally in Sacramento earlier that year. Participating artists included Death Cab for Cutie, Aimee Mann, Bhi Bhiman, Jim James, Franz Ferdinand, Josh Ritter, Thao Nguyen, EL VY, R.E.M., Adia Victoria, Moby, Lila Downs, Mac McCaughan, Tim Bluhm, Vinnie Paz, Jesu, Sun Kil Moon, Filthy Friends, Radioinactive, Sheila Brody, Ani DiFranco, Andrew Bird, Mirah, clipping., Sam Cohen, Blake Hazard, Wesley Stace, Loudon Wainwright III, Cold War Kids, Reggie Watts, Mission of Burma, Bob Mould, Ryan Miller, The Long Winters, Open Mike Eagle, Jimmy Eat World, Kyle Craft, Local Natives, Anthony DAmato, Greg Holden, Laura Gibson, Tim Heidecker, Modern Baseball, Joe Purdy, Rogue Wave and more. Songs that mention Donald Trump 1980s \"Johnny Ryall\" by Beastie Boys (1989): \"Donald Trump and Donald Tramp living in the mens Shelter\" \"My Word Is Bond\" by Donald D (1989): \\u201cAnd after that me and Donald Trump hung out   Donald talkin bout Donald Trump, man, yall is crazy.\\u201d 1990s \"Donald Trump (Black Version)\" by The Time (1990): \"Donald Trump (black version), come on take a chance   A 1990s love affair, the real romance.\" \"I Gotta Say What Up\" by Ice Cube (1990): \"I gotta say whats up to Digital Underground and Humpty Hump   Cause he makin more than Donald Trump, you know what Im sayin, yo.\" \"Skin Trade\" by Nice (1990): \"Im not rich like Donald Trump\" \\u201cSkypager\" by A Tribe Called Quest (1991): \"Beepers goin off like Don Trump gets checks\\u201d \"Money and the Power\" by Scarface (1991): \"Rolling hard, stackin paper like Trump\" \"Pocket Full of Stones\" by UGK (1992): \"Call me Black Trump\" \"Da Funk\" by Redman (1992): \"Im back with the funk, chump You want funk, how many lumps? I got spunk Im well known like Donald Trump.\" \"Las Vegas in the Hills of Donegal\" by Goats Dont Shave (1992): \"Inishowen could then be known for its multimillionaires   Where Donald Trump would like a chunk to live in solitaire\" \"Smart Like Einstein\" by Little Charlie and the Nightcats (1993): \"I was smart like Einstein, rich like Donald Trump\". The Coups eponymous song from their debut album Kill My Landlord (1993): \"Break yourself Bush, its collection day   Break yourself Trump, its collection day   Break yourself DuPont, its collection day   You stole the shit from my great granddaddy anyway.\" \"Pimps (Free Stylin at the Fortune 500 Club)\" by The Coup (1994): \"Trump Trump check out the cash in my trunk I am Donald Trump me think you mighta heard about me How me last wife Ivana come and catch me money.\" \"211\" by Master P (1994): \"Put more cash in my pockets than Donald Trump\" \"Incarcerated Scarfaces\" by Raekwon (1995): \"But yo, guess whos the black Trump?\" \"Money Talks\" by Double X Posse (1995): \"A bank account so fat that Donald Trump would wanna be me\" \"Paid\" by Kid Rock (1996): \"Id still be in the house getting paid like Trump\" \"Three Strikes You In\" by Ice Cube (1998): \"Im just tryin to get rich like Trump\" \"Mafioso\" by Kool G Rap (1998): \"Cant stop until I got a casa up in Trump plaza\" \"Trump Change\" by E-40 (1998): \"Trump change, Im talking Donald Trump change   Im talking Steve Wynn, Im talking you know? E-Feezee\" \"Tru Master\" by Pete Rock (1998): \"In hot pursuit of Donald Trump rap loot\" \"Money Is My Bitch\" by Nas (1999): \"The best couple they seen since Trump and Marla Maples.\" \"Speed Law\" by Mos Def (1999): \\u201cRocked the Trump Tower to the terrordome\\u201d \"muzzle Toe\" by Wu-Syndicate (1999): \\u201cIts reg or not, pockets love Trump Donald\\u201d 2000s \"Love on Haight Street\" by BT with Rasco and Fifty Grand (2000): \"Took me twelve months to stack money in lumps   Far from livin foul but further from Don Trump\" \"Country Grammar (Hot Shit)\" by Nelly (2000): \"Bill Gates, Donald Trump let me in now   Spin now, I got money to lend my friends now.\" \"Bad Boyz\" by Shyne (2000): \"What type of nigga stay in the Trump for weeks? (Bad Boyz)\" \"Can I Live\" by Cypress Hill (2001): \"We tryna get money so we can be livin like Trump\" \"Hip Hop Quotables\" by Ludacris (2003): \"I buy cars with straight cash, have meetings with Donald Trump.\" \"What More Can I Say\" by Jay Z (2003): \"Im at the Trump International: ask for me I aint never scared\" \"Thug Motivation 101\" by Jeezy (2005): \"Im Donald Trump in a white tee and white 1s\" \"Shut Up Bitch\" by Lil Kim (2005): \"Im in the Trump International, 30 floors up (so high)\" \"Its Goin Down\" by Yung Joc (2006): \"Boys in the hood call me black Donald Trump\" \"Jealousy\" by Fat Joe (2006): \"We fuckin with Donald Trump now.\" \"The Format\" by AZ (2006):\"From Bed-Stuy to the East, Im too at peace to lose it   But love it, I still does it, breathing off a Trump budget\" \"We Gon\\u2019 Make It\" by Diddy (2006): \"I spend absurd money, private bird money That Bill Gates, Donald Trump, Bloomberg money.\" \"Mo Cars, Mo Hoes\" by Fabolous (2008): \"They know Im hood rich, Donald Trump of the pumpers\" Rick Ross \"This is the Life\" (2008): \"Im in Trump Towers, amongst earners\" \"Donald Trumps Hair\" (2009) by Kacey Jones 2010\\u20132014 \"So Appalled\" by Kanye West (2010): \"Balding Donald Trump taking dollars from yall\" \"Get It\" by Big Sean and Pharrell (2010): \"Im tryna stuff em until I cant fit no moreIm talking Donald Trump level\" \"Listen to My Drama\" by Ivy Queen (2010): \"Yo soy fina como Gucci, la heredera de Donald Trump   I am fine like Gucci, Donald Trumps heiress\" \"Donald Trump\" by Mac Miller (2011) \"Trump\" by Young Jeezy (2011): \"Call me Donald Trump  The type that count my money while I smoke a blunt.\" \"Racks on Racks\" by Lil Wayne (2011): \"Get money like Donald Trump.\" \"I Need Dollas\" by T.I. (2012): \"Used to want dough like Jay-Z, but now I\\u2019m thinking Donald Trump.\" \"Loco-Motive\" by Naz (2012): \"I started out broke, got rich, lost paper then made it back   Like Trump bein up down up, play with cash\" \"Ball\" by Lil Wayne and T.I. (2012): \"Ima fire my blunt like Donald Trump\" \"Google That\" by Raekwon (2012): \"Black Trump...with fat pockets\" \"Pirates\" by Rick Ross (2012): \"Resurrection of the real, time to get the richer than Trump\" \"I Wanna Be With You\" by Nicki Minaj with DJ Khaled (2013): \"At the Trump, and you bitches at the Radisson\" \"Karate Chop\" by Shaquille ONeal (2013): \"You aint got enough, better get a loan from Mr. Bill Gates   And Donald Trump and Carlos Slim.\" \"Donald Trump Walk\" by Jerry James (2013): \"Imma make them bottles pop   Donald Trump talk\" \"Off the Corner\" by Meek Mill (2014): \"Going Donald Trump numbers on the corner I made a million on that corner.\" \"Donald Trump\" by Young Thug (2014): \"Donald Trump, I made   Forbes list this month!\" 2015\\u20132016, during Trumps presidential race and election \"Up Like Trump\" by Rae Sremmurd (2015): \"Forbes list, Forbes  Read it like the bible  Up like Donald Trump.\" \"Black Friday\" by Kendrick Lamar (2015): \"I\\u2019m the son of the pioneer that got you near the sun   Play with him, bitch you better off voting for Donald Trump.\" \"El Chapo\" by The Game (2015): \"This is goons day, I can have Guadalupe   Come through and knock Donald Trump out his tupee\" \"Dats It Fa Ya\" by DJ Paul & Juicy J (2015): \"On that presidential skunk, thats that Donald Trump\" \"Fergus Laing\" by Richard Thompson (2015): \"Fergus Laing he flaunts the law   But one day he\\u2019ll be wired   And as they drag him off to jail   We\\u2019ll all shout, \"You\\u2019re fired!\" \"Free Enterprises\" by Rick Ross (2015): \"Assassinate Trump like Im Zimmerman\" \"Bad Boy on Death Row\" by Dave East (2016): \"Donald Trump aint safe on my block, gotcha your wifey at IHOP\" \"Mr. Tangerine Man\" by Rocky Mountain Mike (2016) \"Nobody Speak\" by El-P (2016): \"Flame your crew quicker than Trump fucks his youngest\" \"FDT\" YG & Nipsey Hussle (2016): \"Fuck Donald Trump\" \"FDT Pt. 2\" by G-Eazy (2016): \"A Trump rally sounds like Hitler in Berlin or KKK shit, now Im goin in\" \"Fucked Up Donald\" by Canadian punk band D.O.A. (2016), based off their 1980s song \"Fucked Up Ronnie. \"Trump\" by Oral Bee and Mr. Pimp-Lotion (2016) \"Black Barbies\" by Nicki Minaj (2016): \"Island girl, Donald Trump want me go home\" \"Talk to Me\" by Run The Jewels (2016): \"Went to war with the Devil and Shaytan He wore a bad toupee and a spray tan\" 30 Days, 50 Songs project, released daily between October 10 and November 8, 2016 by Dave Eggers and Jordan Kurland, including notably: \"Million Dollar Loan\" by Death Cab for Cutie \"Mr. Tangerine Man [live]\" by Wesley Stace 2017 \"Tiny Hands\" by Fiona Apple Pre-existing songs modified to be about Donald Trump \"Born to Die,\" a 1982 song by Millions of Dead Cops begins with the chant \"No war! No KKK! No fascist USA!\" The chant was modified by American punk rock act Green Day at the 2016 American Music Awards to become, \"No Trump! No KKK! No Fascist USA!\" from there, the chant was taken to the streets by anti-Trump protestors. See also Ronald Reagan in music References'"
      ]
     },
     "execution_count": 13,
     "metadata": {},
     "output_type": "execute_result"
    }
   ],
   "source": [
    "pg_52257413_txt"
   ]
  },
  {
   "cell_type": "code",
   "execution_count": 16,
   "metadata": {
    "collapsed": false
   },
   "outputs": [],
   "source": [
    "from sklearn.externals import joblib\n",
    "transformer = joblib.load('../project-06/data/vectorizer.pkl')"
   ]
  },
  {
   "cell_type": "code",
   "execution_count": 19,
   "metadata": {
    "collapsed": false
   },
   "outputs": [],
   "source": [
    "doc_vec=enc.get_page_vector(transformer, pg_52257413_txt, [52257413])"
   ]
  },
  {
   "cell_type": "code",
   "execution_count": 24,
   "metadata": {
    "collapsed": false,
    "scrolled": true
   },
   "outputs": [
    {
     "data": {
      "text/plain": [
       "{52257413: array([[ 0.,  0.,  0.,  0.,  0.,  0.,  0.,  0.,  0.,  0.,  0.,  0.,  0.,\n",
       "          0.,  0.,  0.,  0.,  0.,  0.,  0.,  0.,  0.,  0.,  0.,  0.,  0.,\n",
       "          0.,  0.,  0.,  0.,  0.,  0.,  0.,  0.,  0.,  0.,  0.,  0.,  0.,\n",
       "          0.,  0.,  0.,  0.,  0.,  0.,  0.,  0.,  0.,  0.,  0.,  0.,  0.,\n",
       "          0.,  0.,  0.,  0.,  0.,  0.,  0.,  0.,  0.,  0.,  0.,  0.,  0.,\n",
       "          0.,  0.,  0.,  0.,  0.,  0.,  0.,  0.,  0.,  0.,  0.,  0.,  0.,\n",
       "          0.,  0.,  0.,  0.,  0.,  0.,  0.,  0.,  0.,  0.,  0.,  0.,  0.,\n",
       "          0.,  0.,  0.,  0.,  0.,  0.,  0.,  0.,  0.,  0.,  0.,  0.,  0.,\n",
       "          0.,  0.,  0.,  0.,  0.,  0.,  0.,  0.,  0.,  0.,  0.,  0.,  0.,\n",
       "          0.,  0.,  0.,  0.,  0.,  0.,  0.,  0.,  0.,  0.,  0.,  0.,  0.,\n",
       "          0.,  0.,  0.,  0.,  0.,  0.,  0.,  0.,  0.,  0.,  0.,  0.,  0.,\n",
       "          0.,  0.,  0.,  0.,  0.,  0.,  0.,  0.,  0.,  0.,  0.,  0.,  0.,\n",
       "          0.,  0.,  0.,  0.,  0.,  0.,  0.,  0.,  0.,  0.,  0.,  0.,  0.,\n",
       "          0.,  0.,  0.,  0.,  0.,  0.,  0.,  0.,  0.,  0.,  0.,  0.,  0.,\n",
       "          0.,  0.,  0.,  0.,  0.,  0.,  0.,  0.,  0.,  0.,  0.,  0.,  0.,\n",
       "          0.,  0.,  0.,  0.,  0.,  0.,  0.,  0.,  0.,  0.,  0.,  0.,  0.,\n",
       "          0.,  0.,  0.,  0.,  0.,  0.,  0.,  0.,  0.,  0.,  0.,  0.,  0.,\n",
       "          0.,  0.,  0.,  0.,  0.,  0.,  0.,  0.,  0.,  0.,  0.,  0.,  0.,\n",
       "          0.,  0.,  0.,  0.,  0.,  0.,  0.,  0.,  0.,  0.,  0.,  0.,  0.,\n",
       "          0.,  0.,  0.,  0.,  0.,  0.,  0.,  0.,  0.,  0.,  0.,  0.,  0.,\n",
       "          0.,  0.,  0.,  0.,  0.,  0.,  0.,  0.,  0.,  0.,  0.,  0.,  0.,\n",
       "          0.,  0.,  0.,  0.,  0.,  0.,  0.,  0.,  0.,  0.,  0.,  0.,  0.,\n",
       "          0.,  0.,  0.,  0.,  0.,  0.,  0.,  0.,  0.,  0.,  0.,  0.,  0.,\n",
       "          0.,  0.,  0.,  0.,  0.,  0.,  0.,  0.,  0.,  0.,  0.,  0.,  0.,\n",
       "          0.,  0.,  0.,  0.,  0.,  0.,  0.,  0.,  0.,  0.,  0.,  0.,  0.,\n",
       "          0.,  0.,  0.,  0.,  0.,  0.,  0.,  0.,  0.,  0.,  0.,  0.,  0.,\n",
       "          0.,  0.,  0.,  0.,  0.,  0.,  0.,  0.,  0.,  0.,  0.,  0.,  0.,\n",
       "          0.,  0.,  0.,  0.,  0.,  0.,  0.,  0.,  0.,  0.,  0.,  0.,  0.,\n",
       "          0.,  0.,  0.,  0.,  0.,  0.,  0.,  0.,  0.,  0.,  0.,  0.,  0.,\n",
       "          0.,  0.,  0.,  0.,  0.,  0.,  0.,  0.,  0.,  0.,  0.,  0.,  0.,\n",
       "          0.,  0.,  0.,  0.,  0.,  0.,  0.,  0.,  0.,  0.,  0.,  0.,  0.,\n",
       "          0.,  0.,  0.,  0.,  0.,  0.,  0.,  0.,  0.,  0.,  0.,  0.,  0.,\n",
       "          0.,  0.,  0.,  0.,  0.,  0.,  0.,  0.,  0.,  0.,  0.,  0.,  0.,\n",
       "          0.,  0.,  0.,  0.,  0.,  0.,  0.,  0.,  0.,  0.,  0.,  0.,  0.,\n",
       "          0.,  0.,  0.,  0.,  0.,  0.,  0.,  0.,  0.,  0.,  0.,  0.,  0.,\n",
       "          0.,  0.,  0.,  0.,  0.,  0.,  0.,  0.,  0.,  0.,  0.,  0.,  0.,\n",
       "          0.,  0.,  0.,  0.,  0.,  0.,  0.,  0.,  0.,  0.,  0.,  0.,  0.,\n",
       "          0.,  0.,  0.,  0.,  0.,  0.,  0.,  0.,  0.,  0.,  0.,  0.,  0.,\n",
       "          0.,  0.,  0.,  0.,  0.,  0.]])}"
      ]
     },
     "execution_count": 24,
     "metadata": {},
     "output_type": "execute_result"
    }
   ],
   "source": [
    "doc_vec"
   ]
  },
  {
   "cell_type": "markdown",
   "metadata": {},
   "source": [
    "## Present: Load previously trained and pickled model"
   ]
  },
  {
   "cell_type": "code",
   "execution_count": 25,
   "metadata": {
    "collapsed": true
   },
   "outputs": [],
   "source": [
    "my_pickle=joblib.load('my_pickled_model.pickle')"
   ]
  },
  {
   "cell_type": "code",
   "execution_count": 27,
   "metadata": {
    "collapsed": false
   },
   "outputs": [
    {
     "data": {
      "text/plain": [
       "ExtraTreeClassifier(class_weight=None, criterion='gini', max_depth=None,\n",
       "          max_features='auto', max_leaf_nodes=None,\n",
       "          min_impurity_split=1e-07, min_samples_leaf=1,\n",
       "          min_samples_split=2, min_weight_fraction_leaf=0.0,\n",
       "          random_state=None, splitter='random')"
      ]
     },
     "execution_count": 27,
     "metadata": {},
     "output_type": "execute_result"
    }
   ],
   "source": [
    "my_pickle"
   ]
  },
  {
   "cell_type": "markdown",
   "metadata": {},
   "source": [
    "## Model: Predict category and display category and prediction confidence"
   ]
  },
  {
   "cell_type": "code",
   "execution_count": 29,
   "metadata": {
    "collapsed": false
   },
   "outputs": [
    {
     "data": {
      "text/plain": [
       "array([34955640])"
      ]
     },
     "execution_count": 29,
     "metadata": {},
     "output_type": "execute_result"
    }
   ],
   "source": [
    "my_pickle.predict(doc_vec.values()[0])"
   ]
  },
  {
   "cell_type": "code",
   "execution_count": 33,
   "metadata": {
    "collapsed": false
   },
   "outputs": [
    {
     "name": "stdout",
     "output_type": "stream",
     "text": [
      "Connected to server joshuacook.me.\n"
     ]
    },
    {
     "data": {
      "text/plain": [
       "(<connection object at 0x11995b180; dsn: 'user=russell password=xxxxxx income laid fairly' host=joshuacook.me port=5432 dbname=project_6', closed: 0>,\n",
       " <cursor object at 0x1156f5af8; closed: 0>)"
      ]
     },
     "execution_count": 33,
     "metadata": {},
     "output_type": "execute_result"
    }
   ],
   "source": [
    "db.connect_to_postgres()"
   ]
  },
  {
   "cell_type": "code",
   "execution_count": 35,
   "metadata": {
    "collapsed": false
   },
   "outputs": [
    {
     "name": "stdout",
     "output_type": "stream",
     "text": [
      "OK\n",
      "Connected to server joshuacook.me.\n"
     ]
    },
    {
     "data": {
      "text/plain": [
       "[('Physical exercise',)]"
      ]
     },
     "execution_count": 35,
     "metadata": {},
     "output_type": "execute_result"
    }
   ],
   "source": [
    "db.execute_sql_statement(\"\"\"SELECT category_name FROM category WHERE category_id= 34955640\"\"\")"
   ]
  },
  {
   "cell_type": "code",
   "execution_count": null,
   "metadata": {
    "collapsed": true
   },
   "outputs": [],
   "source": []
  }
 ],
 "metadata": {
  "anaconda-cloud": {},
  "kernelspec": {
   "display_name": "Python [conda root]",
   "language": "python",
   "name": "conda-root-py"
  },
  "language_info": {
   "codemirror_mode": {
    "name": "ipython",
    "version": 2
   },
   "file_extension": ".py",
   "mimetype": "text/x-python",
   "name": "python",
   "nbconvert_exporter": "python",
   "pygments_lexer": "ipython2",
   "version": "2.7.12"
  }
 },
 "nbformat": 4,
 "nbformat_minor": 1
}
