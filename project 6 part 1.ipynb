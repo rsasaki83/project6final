{
 "cells": [
  {
   "cell_type": "markdown",
   "metadata": {
    "collapsed": true
   },
   "source": [
    "## Download"
   ]
  },
  {
   "cell_type": "code",
   "execution_count": 1,
   "metadata": {
    "collapsed": true
   },
   "outputs": [],
   "source": [
    "import pandas as pd\n",
    "import os"
   ]
  },
  {
   "cell_type": "code",
   "execution_count": 2,
   "metadata": {
    "collapsed": true
   },
   "outputs": [],
   "source": [
    "os.chdir('../project-06')"
   ]
  },
  {
   "cell_type": "code",
   "execution_count": 3,
   "metadata": {
    "collapsed": true
   },
   "outputs": [],
   "source": [
    "import lib.database_module as db\n",
    "import lib.encoding_module as enc\n",
    "import lib.wiki_module2 as wiki"
   ]
  },
  {
   "cell_type": "code",
   "execution_count": 4,
   "metadata": {
    "collapsed": false,
    "scrolled": true
   },
   "outputs": [
    {
     "name": "stdout",
     "output_type": "stream",
     "text": [
      "Connected to server joshuacook.me.\n"
     ]
    }
   ],
   "source": [
    "conn, cur = db.connect_to_postgres()\n",
    "# cur.close()\n",
    "# conn.close()"
   ]
  },
  {
   "cell_type": "markdown",
   "metadata": {},
   "source": [
    "## Acquire: Query wikipedia from a yaml file"
   ]
  },
  {
   "cell_type": "code",
   "execution_count": 5,
   "metadata": {
    "collapsed": true
   },
   "outputs": [],
   "source": [
    "import yaml"
   ]
  },
  {
   "cell_type": "code",
   "execution_count": 6,
   "metadata": {
    "collapsed": false
   },
   "outputs": [],
   "source": [
    "with open('config/categories.yml') as yaml_file:\n",
    "    categories=yaml.load(yaml_file)"
   ]
  },
  {
   "cell_type": "code",
   "execution_count": 7,
   "metadata": {
    "collapsed": false
   },
   "outputs": [
    {
     "data": {
      "text/plain": [
       "{'categories': ['Physical exercise']}"
      ]
     },
     "execution_count": 7,
     "metadata": {},
     "output_type": "execute_result"
    }
   ],
   "source": [
    "categories"
   ]
  },
  {
   "cell_type": "code",
   "execution_count": 9,
   "metadata": {
    "collapsed": false
   },
   "outputs": [],
   "source": [
    "response=wiki.query_category('Physical exercise')"
   ]
  },
  {
   "cell_type": "markdown",
   "metadata": {},
   "source": [
    "## Query Wiki by catgory for pages"
   ]
  },
  {
   "cell_type": "code",
   "execution_count": 9,
   "metadata": {
    "collapsed": false,
    "scrolled": true
   },
   "outputs": [
    {
     "name": "stdout",
     "output_type": "stream",
     "text": [
      "{'categoryid': '34955640', 'pages': [{'pageid': 189037, 'title': 'Physical exercise'}, {'pageid': 7623176, 'title': 'Outline of exercise'}, {'pageid': 1443956, 'title': '5BX'}, {'pageid': 17452177, 'title': 'Acroyoga'}, {'pageid': 26351000, 'title': 'ACSM American Fitness Index'}, {'pageid': 3212386, 'title': 'Active living'}, {'pageid': 9612933, 'title': 'Active Living by Design'}, {'pageid': 3906419, 'title': 'Active stretching'}, {'pageid': 166394, 'title': 'Aerobics'}, {'pageid': 4015896, 'title': 'Agility'}, {'pageid': 36904919, 'title': 'Agility drill'}, {'pageid': 18906408, 'title': 'Allsport GPS'}, {'pageid': 45449589, 'title': 'AntiGravity Fitness'}, {'pageid': 18284675, 'title': 'Asahi Health'}, {'pageid': 1789835, 'title': 'Assault course'}, {'pageid': 1742971, 'title': 'Athletic training'}, {'pageid': 36151626, 'title': 'Aviva method'}, {'pageid': 3906620, 'title': 'Ballistic stretching'}, {'pageid': 12235163, 'title': 'Ballistic training'}, {'pageid': 40973486, 'title': 'Irmgard Bartenieff'}, {'pageid': 1632473, 'title': 'Battle of the Systems'}, {'pageid': 11874234, 'title': \"Billy's Bootcamp\"}, {'pageid': 42031171, 'title': 'BodyCode Training System'}, {'pageid': 45065219, 'title': 'Boxercise'}, {'pageid': 22016518, 'title': 'Burpee (exercise)'}, {'pageid': 189023, 'title': 'Calisthenics'}, {'pageid': 27303975, 'title': 'Callanetics'}, {'pageid': 34775619, 'title': 'Chi ball'}, {'pageid': 31180466, 'title': 'Chinese Wand Exercise'}, {'pageid': 3751384, 'title': 'Circuit training'}, {'pageid': 3930540, 'title': 'Closed kinetic chain exercises'}, {'pageid': 3821985, 'title': 'Complex training'}, {'pageid': 31300555, 'title': 'Concentric hypertrophy'}, {'pageid': 14018896, 'title': 'Continuous training'}, {'pageid': 1879435, 'title': 'Cooling down'}, {'pageid': 13872332, 'title': 'Core stability'}, {'pageid': 2262965, 'title': 'Cross-training'}, {'pageid': 11568969, 'title': 'CrossFit'}, {'pageid': 5931, 'title': 'Cycling'}, {'pageid': 28579986, 'title': 'DailyBurn'}, {'pageid': 12489103, 'title': 'Dog walking'}, {'pageid': 38485157, 'title': 'Duong sinh'}, {'pageid': 3906598, 'title': 'Dynamic stretching'}, {'pageid': 1519026, 'title': 'Dynamic Tension'}, {'pageid': 5004001, 'title': 'Electrical muscle stimulation'}, {'pageid': 997680, 'title': 'Endurance'}, {'pageid': 6490834, 'title': 'Endurance training'}, {'pageid': 41863605, 'title': 'EPODE International Network'}, {'pageid': 33242198, 'title': 'Exercise addiction'}, {'pageid': 1569145, 'title': 'Exercise bulimia'}, {'pageid': 2604726, 'title': 'Exercise hypertension'}, {'pageid': 1141675, 'title': 'Exercise intensity'}, {'pageid': 1644698, 'title': 'Exercise intolerance'}, {'pageid': 18571544, 'title': 'Exercise is Medicine'}, {'pageid': 21496931, 'title': 'Exercise prescription'}, {'pageid': 27364911, 'title': 'Exercise prescription software'}, {'pageid': 25663854, 'title': 'Exercise therapy for idiopathic inflammatory myopathies'}, {'pageid': 21479645, 'title': 'Exercise trends'}, {'pageid': 4329772, 'title': 'Exertion'}, {'pageid': 52757304, 'title': 'Extended length conditioning'}, {'pageid': 2978833, 'title': 'Facial toning'}, {'pageid': 47390498, 'title': 'Fascia Training'}, {'pageid': 245089, 'title': 'Feldenkrais Method'}, {'pageid': 13225048, 'title': 'Fitness boot camp'}, {'pageid': 45705591, 'title': 'Fitness culture'}, {'pageid': 27340647, 'title': 'Fitness professional'}, {'pageid': 9481518, 'title': 'Fitness trail'}, {'pageid': 1763544, 'title': 'Five Tibetan Rites'}, {'pageid': 40476521, 'title': 'Floor-Barre'}, {'pageid': 36708486, 'title': 'Football strength'}, {'pageid': 11022353, 'title': 'Form (exercise)'}, {'pageid': 6230660, 'title': 'Functional training'}, {'pageid': 24410369, 'title': 'Galileo (vibration training)'}, {'pageid': 6057429, 'title': 'General fitness training'}, {'pageid': 35605527, 'title': 'General strength exercise'}, {'pageid': 40818021, 'title': 'Elena Gibson'}, {'pageid': 33977525, 'title': 'Grace Somatomorphic Technique'}, {'pageid': 31493190, 'title': 'Group green exercise'}, {'pageid': 21463614, 'title': 'Gym'}, {'pageid': 11209462, 'title': 'Gymkhana (equestrian)'}, {'pageid': 6691980, 'title': 'Gyrotonic'}, {'pageid': 52076433, 'title': 'Hot cycling'}, {'pageid': 7191296, 'title': 'House Gymnastics'}, {'pageid': 605111, 'title': 'Hypertrophy'}, {'pageid': 1109829, 'title': 'Hypertrophy-specific training'}, {'pageid': 37215325, 'title': 'Hypopressive exercise'}, {'pageid': 7915674, 'title': 'Illinois agility test'}, {'pageid': 14670246, 'title': 'Incremental exercise'}, {'pageid': 672915, 'title': 'Indoor cycling'}, {'pageid': 1686300, 'title': 'Indian club'}, {'pageid': 41978562, 'title': 'Isoinertial'}, {'pageid': 1519027, 'title': 'Isometric exercise'}, {'pageid': 25288890, 'title': 'Isometric exercise device'}, {'pageid': 309216, 'title': 'Jogging'}, {'pageid': 15525857, 'title': 'Kaatsu'}, {'pageid': 410851, 'title': 'Kegel exercise'}, {'pageid': 52715112, 'title': 'Kinesiological stretching'}, {'pageid': 28962352, 'title': 'Kinesiophobia'}, {'pageid': 36622107, 'title': 'Kinomap'}, {'pageid': 2433663, 'title': 'Leisure centre'}, {'pageid': 22622358, 'title': 'Loaded march'}, {'pageid': 12646543, 'title': 'Long-term complications of standing'}, {'pageid': 41725244, 'title': 'Mad Dogg Athletics'}, {'pageid': 4673346, 'title': 'Mall walking'}, {'pageid': 20023618, 'title': 'Metabolic window'}, {'pageid': 45417893, 'title': 'Movement assessment'}, {'pageid': 1751142, 'title': 'Multi-stage fitness test'}, {'pageid': 50041028, 'title': 'Syed Nadeemuddin'}, {'pageid': 30322189, 'title': 'National Healthy Schools Programme'}, {'pageid': 5375946, 'title': 'Netpulse'}, {'pageid': 34760961, 'title': 'Neurobiological effects of physical exercise'}, {'pageid': 15787684, 'title': 'Neutral spine'}, {'pageid': 663765, 'title': 'Nordic walking'}, {'pageid': 13088437, 'title': 'November Project'}, {'pageid': 3930560, 'title': 'Open kinetic chain exercises'}, {'pageid': 10640543, 'title': 'Outdoor gym'}, {'pageid': 29475492, 'title': 'Outline of running'}, {'pageid': 27512025, 'title': 'P90X'}, {'pageid': 3906474, 'title': 'Passive stretching'}, {'pageid': 49986510, 'title': 'Paula method'}, {'pageid': 49986185, 'title': 'Draft:Paula Method'}, {'pageid': 8294978, 'title': 'Physical activity level'}, {'pageid': 1403831, 'title': 'Physical culture'}, {'pageid': 217324, 'title': 'Physical education'}, {'pageid': 432986, 'title': 'Physical fitness'}, {'pageid': 788074, 'title': 'Physical strength'}, {'pageid': 24022, 'title': 'Physical therapy'}, {'pageid': 26592735, 'title': 'Physique 57'}, {'pageid': 491936, 'title': 'Pilates'}, {'pageid': 1572175, 'title': 'Plyometrics'}, {'pageid': 620894, 'title': 'PNF stretching'}, {'pageid': 19337262, 'title': 'Pole dance'}, {'pageid': 632990, 'title': 'Pranayama'}, {'pageid': 39671195, 'title': 'Prancercise'}, {'pageid': 23758579, 'title': 'Prehabilitation'}, {'pageid': 6140080, 'title': 'Progressive overload'}, {'pageid': 2180007, 'title': 'Radio calisthenics'}, {'pageid': 16732126, 'title': 'Rating of perceived exertion'}, {'pageid': 35197077, 'title': 'Ratzeburg Test'}, {'pageid': 6704750, 'title': 'Ready for Labour and Defence of the USSR'}, {'pageid': 37002564, 'title': 'Rebound exercise'}, {'pageid': 13531511, 'title': 'Riding school bus'}, {'pageid': 16759570, 'title': 'Russian twist'}, {'pageid': 22589405, 'title': 'Scaption'}, {'pageid': 1351092, 'title': 'Sex diet'}, {'pageid': 1350961, 'title': 'Sexercise'}, {'pageid': 42901195, 'title': 'Shazzy Fitness'}, {'pageid': 16752887, 'title': 'Shovelglove'}, {'pageid': 42043844, 'title': 'Shuai Shou Gong'}, {'pageid': 1095574, 'title': 'Side stitch'}, {'pageid': 5303278, 'title': 'Sit and Be Fit'}, {'pageid': 1028100, 'title': 'Sit-up'}, {'pageid': 14126388, 'title': 'Outline of skiing'}, {'pageid': 42335286, 'title': 'Skinny Bitch Fitness'}, {'pageid': 35620181, 'title': 'Specialized strength exercise'}, {'pageid': 28243188, 'title': 'SpecTrek'}, {'pageid': 43401299, 'title': 'Sports Backers'}, {'pageid': 22702381, 'title': 'Sports biomechanics'}, {'pageid': 4161298, 'title': 'Sports periodization'}, {'pageid': 8581665, 'title': 'Spot reduction'}, {'pageid': 1274169, 'title': 'Squat (exercise)'}, {'pageid': 2783385, 'title': 'Static stretching'}, {'pageid': 37744064, 'title': 'Street workout'}, {'pageid': 1240348, 'title': 'Strength training'}, {'pageid': 868983, 'title': 'Stretching'}, {'pageid': 4186400, 'title': 'Super Slow'}, {'pageid': 35859796, 'title': 'Sweatworking'}, {'pageid': 23261720, 'title': 'Tae Bo'}, {'pageid': 15882816, 'title': 'Tangolates'}, {'pageid': 33660916, 'title': 'Test (assessment)'}, {'pageid': 29020782, 'title': 'TriBalance Hot Yoga'}, {'pageid': 3737971, 'title': 'Vacuum exercise'}, {'pageid': 43058690, 'title': 'Vaginal weightlifting'}, {'pageid': 43062065, 'title': 'Vascular occlusion training'}, {'pageid': 8194266, 'title': 'VERB (program)'}, {'pageid': 8933822, 'title': 'Viparita Karani'}, {'pageid': 828050, 'title': 'Warming up'}, {'pageid': 3549164, 'title': 'Weight cutting'}, {'pageid': 44574, 'title': 'Weight training'}, {'pageid': 4441182, 'title': 'Weighted clothing'}, {'pageid': 12661386, 'title': 'Whole body vibration'}, {'pageid': 30331394, 'title': 'World Fit'}, {'pageid': 44980566, 'title': 'WWE Workout Series'}, {'pageid': 3710574, 'title': 'XBX'}, {'pageid': 2354452, 'title': 'The Y Plan'}, {'pageid': 34258, 'title': 'Yoga'}, {'pageid': 47066384, 'title': 'Yogi Haider'}, {'pageid': 51280803, 'title': 'Zero Time Exercise'}]}\n"
     ]
    }
   ],
   "source": [
    "for cat in categories['categories']:\n",
    "    print (wiki.query_category(cat))"
   ]
  },
  {
   "cell_type": "code",
   "execution_count": 10,
   "metadata": {
    "collapsed": false,
    "scrolled": true
   },
   "outputs": [
    {
     "data": {
      "text/plain": [
       "{'categoryid': '34955640',\n",
       " 'pages': [{'pageid': 189037, 'title': 'Physical exercise'},\n",
       "  {'pageid': 7623176, 'title': 'Outline of exercise'},\n",
       "  {'pageid': 1443956, 'title': '5BX'},\n",
       "  {'pageid': 17452177, 'title': 'Acroyoga'},\n",
       "  {'pageid': 26351000, 'title': 'ACSM American Fitness Index'},\n",
       "  {'pageid': 3212386, 'title': 'Active living'},\n",
       "  {'pageid': 9612933, 'title': 'Active Living by Design'},\n",
       "  {'pageid': 3906419, 'title': 'Active stretching'},\n",
       "  {'pageid': 166394, 'title': 'Aerobics'},\n",
       "  {'pageid': 4015896, 'title': 'Agility'},\n",
       "  {'pageid': 36904919, 'title': 'Agility drill'},\n",
       "  {'pageid': 18906408, 'title': 'Allsport GPS'},\n",
       "  {'pageid': 45449589, 'title': 'AntiGravity Fitness'},\n",
       "  {'pageid': 18284675, 'title': 'Asahi Health'},\n",
       "  {'pageid': 1789835, 'title': 'Assault course'},\n",
       "  {'pageid': 1742971, 'title': 'Athletic training'},\n",
       "  {'pageid': 36151626, 'title': 'Aviva method'},\n",
       "  {'pageid': 3906620, 'title': 'Ballistic stretching'},\n",
       "  {'pageid': 12235163, 'title': 'Ballistic training'},\n",
       "  {'pageid': 40973486, 'title': 'Irmgard Bartenieff'},\n",
       "  {'pageid': 1632473, 'title': 'Battle of the Systems'},\n",
       "  {'pageid': 11874234, 'title': \"Billy's Bootcamp\"},\n",
       "  {'pageid': 42031171, 'title': 'BodyCode Training System'},\n",
       "  {'pageid': 45065219, 'title': 'Boxercise'},\n",
       "  {'pageid': 22016518, 'title': 'Burpee (exercise)'},\n",
       "  {'pageid': 189023, 'title': 'Calisthenics'},\n",
       "  {'pageid': 27303975, 'title': 'Callanetics'},\n",
       "  {'pageid': 34775619, 'title': 'Chi ball'},\n",
       "  {'pageid': 31180466, 'title': 'Chinese Wand Exercise'},\n",
       "  {'pageid': 3751384, 'title': 'Circuit training'},\n",
       "  {'pageid': 3930540, 'title': 'Closed kinetic chain exercises'},\n",
       "  {'pageid': 3821985, 'title': 'Complex training'},\n",
       "  {'pageid': 31300555, 'title': 'Concentric hypertrophy'},\n",
       "  {'pageid': 14018896, 'title': 'Continuous training'},\n",
       "  {'pageid': 1879435, 'title': 'Cooling down'},\n",
       "  {'pageid': 13872332, 'title': 'Core stability'},\n",
       "  {'pageid': 2262965, 'title': 'Cross-training'},\n",
       "  {'pageid': 11568969, 'title': 'CrossFit'},\n",
       "  {'pageid': 5931, 'title': 'Cycling'},\n",
       "  {'pageid': 28579986, 'title': 'DailyBurn'},\n",
       "  {'pageid': 12489103, 'title': 'Dog walking'},\n",
       "  {'pageid': 38485157, 'title': 'Duong sinh'},\n",
       "  {'pageid': 3906598, 'title': 'Dynamic stretching'},\n",
       "  {'pageid': 1519026, 'title': 'Dynamic Tension'},\n",
       "  {'pageid': 5004001, 'title': 'Electrical muscle stimulation'},\n",
       "  {'pageid': 997680, 'title': 'Endurance'},\n",
       "  {'pageid': 6490834, 'title': 'Endurance training'},\n",
       "  {'pageid': 41863605, 'title': 'EPODE International Network'},\n",
       "  {'pageid': 33242198, 'title': 'Exercise addiction'},\n",
       "  {'pageid': 1569145, 'title': 'Exercise bulimia'},\n",
       "  {'pageid': 2604726, 'title': 'Exercise hypertension'},\n",
       "  {'pageid': 1141675, 'title': 'Exercise intensity'},\n",
       "  {'pageid': 1644698, 'title': 'Exercise intolerance'},\n",
       "  {'pageid': 18571544, 'title': 'Exercise is Medicine'},\n",
       "  {'pageid': 21496931, 'title': 'Exercise prescription'},\n",
       "  {'pageid': 27364911, 'title': 'Exercise prescription software'},\n",
       "  {'pageid': 25663854,\n",
       "   'title': 'Exercise therapy for idiopathic inflammatory myopathies'},\n",
       "  {'pageid': 21479645, 'title': 'Exercise trends'},\n",
       "  {'pageid': 4329772, 'title': 'Exertion'},\n",
       "  {'pageid': 52757304, 'title': 'Extended length conditioning'},\n",
       "  {'pageid': 2978833, 'title': 'Facial toning'},\n",
       "  {'pageid': 47390498, 'title': 'Fascia Training'},\n",
       "  {'pageid': 245089, 'title': 'Feldenkrais Method'},\n",
       "  {'pageid': 13225048, 'title': 'Fitness boot camp'},\n",
       "  {'pageid': 45705591, 'title': 'Fitness culture'},\n",
       "  {'pageid': 27340647, 'title': 'Fitness professional'},\n",
       "  {'pageid': 9481518, 'title': 'Fitness trail'},\n",
       "  {'pageid': 1763544, 'title': 'Five Tibetan Rites'},\n",
       "  {'pageid': 40476521, 'title': 'Floor-Barre'},\n",
       "  {'pageid': 36708486, 'title': 'Football strength'},\n",
       "  {'pageid': 11022353, 'title': 'Form (exercise)'},\n",
       "  {'pageid': 6230660, 'title': 'Functional training'},\n",
       "  {'pageid': 24410369, 'title': 'Galileo (vibration training)'},\n",
       "  {'pageid': 6057429, 'title': 'General fitness training'},\n",
       "  {'pageid': 35605527, 'title': 'General strength exercise'},\n",
       "  {'pageid': 40818021, 'title': 'Elena Gibson'},\n",
       "  {'pageid': 33977525, 'title': 'Grace Somatomorphic Technique'},\n",
       "  {'pageid': 31493190, 'title': 'Group green exercise'},\n",
       "  {'pageid': 21463614, 'title': 'Gym'},\n",
       "  {'pageid': 11209462, 'title': 'Gymkhana (equestrian)'},\n",
       "  {'pageid': 6691980, 'title': 'Gyrotonic'},\n",
       "  {'pageid': 52076433, 'title': 'Hot cycling'},\n",
       "  {'pageid': 7191296, 'title': 'House Gymnastics'},\n",
       "  {'pageid': 605111, 'title': 'Hypertrophy'},\n",
       "  {'pageid': 1109829, 'title': 'Hypertrophy-specific training'},\n",
       "  {'pageid': 37215325, 'title': 'Hypopressive exercise'},\n",
       "  {'pageid': 7915674, 'title': 'Illinois agility test'},\n",
       "  {'pageid': 14670246, 'title': 'Incremental exercise'},\n",
       "  {'pageid': 672915, 'title': 'Indoor cycling'},\n",
       "  {'pageid': 1686300, 'title': 'Indian club'},\n",
       "  {'pageid': 41978562, 'title': 'Isoinertial'},\n",
       "  {'pageid': 1519027, 'title': 'Isometric exercise'},\n",
       "  {'pageid': 25288890, 'title': 'Isometric exercise device'},\n",
       "  {'pageid': 309216, 'title': 'Jogging'},\n",
       "  {'pageid': 15525857, 'title': 'Kaatsu'},\n",
       "  {'pageid': 410851, 'title': 'Kegel exercise'},\n",
       "  {'pageid': 52715112, 'title': 'Kinesiological stretching'},\n",
       "  {'pageid': 28962352, 'title': 'Kinesiophobia'},\n",
       "  {'pageid': 36622107, 'title': 'Kinomap'},\n",
       "  {'pageid': 2433663, 'title': 'Leisure centre'},\n",
       "  {'pageid': 22622358, 'title': 'Loaded march'},\n",
       "  {'pageid': 12646543, 'title': 'Long-term complications of standing'},\n",
       "  {'pageid': 41725244, 'title': 'Mad Dogg Athletics'},\n",
       "  {'pageid': 4673346, 'title': 'Mall walking'},\n",
       "  {'pageid': 20023618, 'title': 'Metabolic window'},\n",
       "  {'pageid': 45417893, 'title': 'Movement assessment'},\n",
       "  {'pageid': 1751142, 'title': 'Multi-stage fitness test'},\n",
       "  {'pageid': 50041028, 'title': 'Syed Nadeemuddin'},\n",
       "  {'pageid': 30322189, 'title': 'National Healthy Schools Programme'},\n",
       "  {'pageid': 5375946, 'title': 'Netpulse'},\n",
       "  {'pageid': 34760961,\n",
       "   'title': 'Neurobiological effects of physical exercise'},\n",
       "  {'pageid': 15787684, 'title': 'Neutral spine'},\n",
       "  {'pageid': 663765, 'title': 'Nordic walking'},\n",
       "  {'pageid': 13088437, 'title': 'November Project'},\n",
       "  {'pageid': 3930560, 'title': 'Open kinetic chain exercises'},\n",
       "  {'pageid': 10640543, 'title': 'Outdoor gym'},\n",
       "  {'pageid': 29475492, 'title': 'Outline of running'},\n",
       "  {'pageid': 27512025, 'title': 'P90X'},\n",
       "  {'pageid': 3906474, 'title': 'Passive stretching'},\n",
       "  {'pageid': 49986510, 'title': 'Paula method'},\n",
       "  {'pageid': 49986185, 'title': 'Draft:Paula Method'},\n",
       "  {'pageid': 8294978, 'title': 'Physical activity level'},\n",
       "  {'pageid': 1403831, 'title': 'Physical culture'},\n",
       "  {'pageid': 217324, 'title': 'Physical education'},\n",
       "  {'pageid': 432986, 'title': 'Physical fitness'},\n",
       "  {'pageid': 788074, 'title': 'Physical strength'},\n",
       "  {'pageid': 24022, 'title': 'Physical therapy'},\n",
       "  {'pageid': 26592735, 'title': 'Physique 57'},\n",
       "  {'pageid': 491936, 'title': 'Pilates'},\n",
       "  {'pageid': 1572175, 'title': 'Plyometrics'},\n",
       "  {'pageid': 620894, 'title': 'PNF stretching'},\n",
       "  {'pageid': 19337262, 'title': 'Pole dance'},\n",
       "  {'pageid': 632990, 'title': 'Pranayama'},\n",
       "  {'pageid': 39671195, 'title': 'Prancercise'},\n",
       "  {'pageid': 23758579, 'title': 'Prehabilitation'},\n",
       "  {'pageid': 6140080, 'title': 'Progressive overload'},\n",
       "  {'pageid': 2180007, 'title': 'Radio calisthenics'},\n",
       "  {'pageid': 16732126, 'title': 'Rating of perceived exertion'},\n",
       "  {'pageid': 35197077, 'title': 'Ratzeburg Test'},\n",
       "  {'pageid': 6704750, 'title': 'Ready for Labour and Defence of the USSR'},\n",
       "  {'pageid': 37002564, 'title': 'Rebound exercise'},\n",
       "  {'pageid': 13531511, 'title': 'Riding school bus'},\n",
       "  {'pageid': 16759570, 'title': 'Russian twist'},\n",
       "  {'pageid': 22589405, 'title': 'Scaption'},\n",
       "  {'pageid': 1351092, 'title': 'Sex diet'},\n",
       "  {'pageid': 1350961, 'title': 'Sexercise'},\n",
       "  {'pageid': 42901195, 'title': 'Shazzy Fitness'},\n",
       "  {'pageid': 16752887, 'title': 'Shovelglove'},\n",
       "  {'pageid': 42043844, 'title': 'Shuai Shou Gong'},\n",
       "  {'pageid': 1095574, 'title': 'Side stitch'},\n",
       "  {'pageid': 5303278, 'title': 'Sit and Be Fit'},\n",
       "  {'pageid': 1028100, 'title': 'Sit-up'},\n",
       "  {'pageid': 14126388, 'title': 'Outline of skiing'},\n",
       "  {'pageid': 42335286, 'title': 'Skinny Bitch Fitness'},\n",
       "  {'pageid': 35620181, 'title': 'Specialized strength exercise'},\n",
       "  {'pageid': 28243188, 'title': 'SpecTrek'},\n",
       "  {'pageid': 43401299, 'title': 'Sports Backers'},\n",
       "  {'pageid': 22702381, 'title': 'Sports biomechanics'},\n",
       "  {'pageid': 4161298, 'title': 'Sports periodization'},\n",
       "  {'pageid': 8581665, 'title': 'Spot reduction'},\n",
       "  {'pageid': 1274169, 'title': 'Squat (exercise)'},\n",
       "  {'pageid': 2783385, 'title': 'Static stretching'},\n",
       "  {'pageid': 37744064, 'title': 'Street workout'},\n",
       "  {'pageid': 1240348, 'title': 'Strength training'},\n",
       "  {'pageid': 868983, 'title': 'Stretching'},\n",
       "  {'pageid': 4186400, 'title': 'Super Slow'},\n",
       "  {'pageid': 35859796, 'title': 'Sweatworking'},\n",
       "  {'pageid': 23261720, 'title': 'Tae Bo'},\n",
       "  {'pageid': 15882816, 'title': 'Tangolates'},\n",
       "  {'pageid': 33660916, 'title': 'Test (assessment)'},\n",
       "  {'pageid': 29020782, 'title': 'TriBalance Hot Yoga'},\n",
       "  {'pageid': 3737971, 'title': 'Vacuum exercise'},\n",
       "  {'pageid': 43058690, 'title': 'Vaginal weightlifting'},\n",
       "  {'pageid': 43062065, 'title': 'Vascular occlusion training'},\n",
       "  {'pageid': 8194266, 'title': 'VERB (program)'},\n",
       "  {'pageid': 8933822, 'title': 'Viparita Karani'},\n",
       "  {'pageid': 828050, 'title': 'Warming up'},\n",
       "  {'pageid': 3549164, 'title': 'Weight cutting'},\n",
       "  {'pageid': 44574, 'title': 'Weight training'},\n",
       "  {'pageid': 4441182, 'title': 'Weighted clothing'},\n",
       "  {'pageid': 12661386, 'title': 'Whole body vibration'},\n",
       "  {'pageid': 30331394, 'title': 'World Fit'},\n",
       "  {'pageid': 44980566, 'title': 'WWE Workout Series'},\n",
       "  {'pageid': 3710574, 'title': 'XBX'},\n",
       "  {'pageid': 2354452, 'title': 'The Y Plan'},\n",
       "  {'pageid': 34258, 'title': 'Yoga'},\n",
       "  {'pageid': 47066384, 'title': 'Yogi Haider'},\n",
       "  {'pageid': 51280803, 'title': 'Zero Time Exercise'}]}"
      ]
     },
     "execution_count": 10,
     "metadata": {},
     "output_type": "execute_result"
    }
   ],
   "source": [
    "responses=[]\n",
    "for cat in categories['categories']:\n",
    "    response= wiki.query_category(cat)\n",
    "    responses.append(response)\n",
    "response"
   ]
  },
  {
   "cell_type": "code",
   "execution_count": 11,
   "metadata": {
    "collapsed": true
   },
   "outputs": [],
   "source": [
    "import pandas as pd"
   ]
  },
  {
   "cell_type": "code",
   "execution_count": 12,
   "metadata": {
    "collapsed": false
   },
   "outputs": [
    {
     "data": {
      "text/html": [
       "<div>\n",
       "<table border=\"1\" class=\"dataframe\">\n",
       "  <thead>\n",
       "    <tr style=\"text-align: right;\">\n",
       "      <th></th>\n",
       "      <th>categoryid</th>\n",
       "      <th>pages</th>\n",
       "    </tr>\n",
       "  </thead>\n",
       "  <tbody>\n",
       "    <tr>\n",
       "      <th>0</th>\n",
       "      <td>34955640</td>\n",
       "      <td>{u'pageid': 189037, u'title': u'Physical exerc...</td>\n",
       "    </tr>\n",
       "    <tr>\n",
       "      <th>1</th>\n",
       "      <td>34955640</td>\n",
       "      <td>{u'pageid': 7623176, u'title': u'Outline of ex...</td>\n",
       "    </tr>\n",
       "    <tr>\n",
       "      <th>2</th>\n",
       "      <td>34955640</td>\n",
       "      <td>{u'pageid': 1443956, u'title': u'5BX'}</td>\n",
       "    </tr>\n",
       "    <tr>\n",
       "      <th>3</th>\n",
       "      <td>34955640</td>\n",
       "      <td>{u'pageid': 17452177, u'title': u'Acroyoga'}</td>\n",
       "    </tr>\n",
       "    <tr>\n",
       "      <th>4</th>\n",
       "      <td>34955640</td>\n",
       "      <td>{u'pageid': 26351000, u'title': u'ACSM America...</td>\n",
       "    </tr>\n",
       "  </tbody>\n",
       "</table>\n",
       "</div>"
      ],
      "text/plain": [
       "  categoryid                                              pages\n",
       "0   34955640  {u'pageid': 189037, u'title': u'Physical exerc...\n",
       "1   34955640  {u'pageid': 7623176, u'title': u'Outline of ex...\n",
       "2   34955640             {u'pageid': 1443956, u'title': u'5BX'}\n",
       "3   34955640       {u'pageid': 17452177, u'title': u'Acroyoga'}\n",
       "4   34955640  {u'pageid': 26351000, u'title': u'ACSM America..."
      ]
     },
     "execution_count": 12,
     "metadata": {},
     "output_type": "execute_result"
    }
   ],
   "source": [
    "responses_df=pd.concat([pd.DataFrame(response) for response in responses])\n",
    "responses_df.head()"
   ]
  },
  {
   "cell_type": "code",
   "execution_count": 13,
   "metadata": {
    "collapsed": false
   },
   "outputs": [
    {
     "data": {
      "text/plain": [
       "['34955640']"
      ]
     },
     "execution_count": 13,
     "metadata": {},
     "output_type": "execute_result"
    }
   ],
   "source": [
    "cat_ids=[response['categoryid'] for response in responses]\n",
    "cat_ids"
   ]
  },
  {
   "cell_type": "code",
   "execution_count": 35,
   "metadata": {
    "collapsed": false,
    "scrolled": true
   },
   "outputs": [],
   "source": [
    "PE_df=pd.DataFrame(responses[0]['pages'])\n",
    "page_ids=PE_df['pageid'].tolist()\n",
    "page_titles=PE_df.title.tolist()"
   ]
  },
  {
   "cell_type": "code",
   "execution_count": 49,
   "metadata": {
    "collapsed": false
   },
   "outputs": [
    {
     "data": {
      "text/plain": [
       "[189037,\n",
       " 7623176,\n",
       " 1443956,\n",
       " 17452177,\n",
       " 26351000,\n",
       " 3212386,\n",
       " 9612933,\n",
       " 3906419,\n",
       " 166394,\n",
       " 4015896,\n",
       " 36904919,\n",
       " 18906408,\n",
       " 45449589,\n",
       " 18284675,\n",
       " 1789835,\n",
       " 1742971,\n",
       " 36151626,\n",
       " 3906620,\n",
       " 12235163,\n",
       " 40973486,\n",
       " 1632473,\n",
       " 11874234,\n",
       " 42031171,\n",
       " 45065219,\n",
       " 22016518,\n",
       " 189023,\n",
       " 27303975,\n",
       " 34775619,\n",
       " 31180466,\n",
       " 3751384,\n",
       " 3930540,\n",
       " 3821985,\n",
       " 31300555,\n",
       " 14018896,\n",
       " 1879435,\n",
       " 13872332,\n",
       " 2262965,\n",
       " 11568969,\n",
       " 5931,\n",
       " 28579986,\n",
       " 12489103,\n",
       " 38485157,\n",
       " 3906598,\n",
       " 1519026,\n",
       " 5004001,\n",
       " 997680,\n",
       " 6490834,\n",
       " 41863605,\n",
       " 33242198,\n",
       " 1569145,\n",
       " 2604726,\n",
       " 1141675,\n",
       " 1644698,\n",
       " 18571544,\n",
       " 21496931,\n",
       " 27364911,\n",
       " 25663854,\n",
       " 21479645,\n",
       " 4329772,\n",
       " 52757304,\n",
       " 2978833,\n",
       " 47390498,\n",
       " 245089,\n",
       " 13225048,\n",
       " 45705591,\n",
       " 27340647,\n",
       " 9481518,\n",
       " 1763544,\n",
       " 40476521,\n",
       " 36708486,\n",
       " 11022353,\n",
       " 6230660,\n",
       " 24410369,\n",
       " 6057429,\n",
       " 35605527,\n",
       " 40818021,\n",
       " 33977525,\n",
       " 31493190,\n",
       " 21463614,\n",
       " 11209462,\n",
       " 6691980,\n",
       " 52076433,\n",
       " 7191296,\n",
       " 605111,\n",
       " 1109829,\n",
       " 37215325,\n",
       " 7915674,\n",
       " 14670246,\n",
       " 672915,\n",
       " 1686300,\n",
       " 41978562,\n",
       " 1519027,\n",
       " 25288890,\n",
       " 309216,\n",
       " 15525857,\n",
       " 410851,\n",
       " 52715112,\n",
       " 28962352,\n",
       " 36622107,\n",
       " 2433663,\n",
       " 22622358,\n",
       " 12646543,\n",
       " 41725244,\n",
       " 4673346,\n",
       " 20023618,\n",
       " 45417893,\n",
       " 1751142,\n",
       " 50041028,\n",
       " 30322189,\n",
       " 5375946,\n",
       " 34760961,\n",
       " 15787684,\n",
       " 663765,\n",
       " 13088437,\n",
       " 3930560,\n",
       " 10640543,\n",
       " 29475492,\n",
       " 27512025,\n",
       " 3906474,\n",
       " 49986510,\n",
       " 49986185,\n",
       " 8294978,\n",
       " 1403831,\n",
       " 217324,\n",
       " 432986,\n",
       " 788074,\n",
       " 24022,\n",
       " 26592735,\n",
       " 491936,\n",
       " 1572175,\n",
       " 620894,\n",
       " 19337262,\n",
       " 632990,\n",
       " 39671195,\n",
       " 23758579,\n",
       " 6140080,\n",
       " 2180007,\n",
       " 16732126,\n",
       " 35197077,\n",
       " 6704750,\n",
       " 37002564,\n",
       " 13531511,\n",
       " 16759570,\n",
       " 22589405,\n",
       " 1351092,\n",
       " 1350961,\n",
       " 42901195,\n",
       " 16752887,\n",
       " 42043844,\n",
       " 1095574,\n",
       " 5303278,\n",
       " 1028100,\n",
       " 14126388,\n",
       " 42335286,\n",
       " 35620181,\n",
       " 28243188,\n",
       " 43401299,\n",
       " 22702381,\n",
       " 4161298,\n",
       " 8581665,\n",
       " 1274169,\n",
       " 2783385,\n",
       " 37744064,\n",
       " 1240348,\n",
       " 868983,\n",
       " 4186400,\n",
       " 35859796,\n",
       " 23261720,\n",
       " 15882816,\n",
       " 33660916,\n",
       " 29020782,\n",
       " 3737971,\n",
       " 43058690,\n",
       " 43062065,\n",
       " 8194266,\n",
       " 8933822,\n",
       " 828050,\n",
       " 3549164,\n",
       " 44574,\n",
       " 4441182,\n",
       " 12661386,\n",
       " 30331394,\n",
       " 44980566,\n",
       " 3710574,\n",
       " 2354452,\n",
       " 34258,\n",
       " 47066384,\n",
       " 51280803]"
      ]
     },
     "execution_count": 49,
     "metadata": {},
     "output_type": "execute_result"
    }
   ],
   "source": [
    "page_ids"
   ]
  },
  {
   "cell_type": "code",
   "execution_count": 44,
   "metadata": {
    "collapsed": false,
    "scrolled": true
   },
   "outputs": [
    {
     "data": {
      "text/plain": [
       "['Physical exercise',\n",
       " 'Outline of exercise',\n",
       " '5BX',\n",
       " 'Acroyoga',\n",
       " 'ACSM American Fitness Index',\n",
       " 'Active living',\n",
       " 'Active Living by Design',\n",
       " 'Active stretching',\n",
       " 'Aerobics',\n",
       " 'Agility',\n",
       " 'Agility drill',\n",
       " 'Allsport GPS',\n",
       " 'AntiGravity Fitness',\n",
       " 'Asahi Health',\n",
       " 'Assault course',\n",
       " 'Athletic training',\n",
       " 'Aviva method',\n",
       " 'Ballistic stretching',\n",
       " 'Ballistic training',\n",
       " 'Irmgard Bartenieff',\n",
       " 'Battle of the Systems',\n",
       " \"Billy's Bootcamp\",\n",
       " 'BodyCode Training System',\n",
       " 'Boxercise',\n",
       " 'Burpee (exercise)',\n",
       " 'Calisthenics',\n",
       " 'Callanetics',\n",
       " 'Chi ball',\n",
       " 'Chinese Wand Exercise',\n",
       " 'Circuit training',\n",
       " 'Closed kinetic chain exercises',\n",
       " 'Complex training',\n",
       " 'Concentric hypertrophy',\n",
       " 'Continuous training',\n",
       " 'Cooling down',\n",
       " 'Core stability',\n",
       " 'Cross-training',\n",
       " 'CrossFit',\n",
       " 'Cycling',\n",
       " 'DailyBurn',\n",
       " 'Dog walking',\n",
       " 'Duong sinh',\n",
       " 'Dynamic stretching',\n",
       " 'Dynamic Tension',\n",
       " 'Electrical muscle stimulation',\n",
       " 'Endurance',\n",
       " 'Endurance training',\n",
       " 'EPODE International Network',\n",
       " 'Exercise addiction',\n",
       " 'Exercise bulimia',\n",
       " 'Exercise hypertension',\n",
       " 'Exercise intensity',\n",
       " 'Exercise intolerance',\n",
       " 'Exercise is Medicine',\n",
       " 'Exercise prescription',\n",
       " 'Exercise prescription software',\n",
       " 'Exercise therapy for idiopathic inflammatory myopathies',\n",
       " 'Exercise trends',\n",
       " 'Exertion',\n",
       " 'Extended length conditioning',\n",
       " 'Facial toning',\n",
       " 'Fascia Training',\n",
       " 'Feldenkrais Method',\n",
       " 'Fitness boot camp',\n",
       " 'Fitness culture',\n",
       " 'Fitness professional',\n",
       " 'Fitness trail',\n",
       " 'Five Tibetan Rites',\n",
       " 'Floor-Barre',\n",
       " 'Football strength',\n",
       " 'Form (exercise)',\n",
       " 'Functional training',\n",
       " 'Galileo (vibration training)',\n",
       " 'General fitness training',\n",
       " 'General strength exercise',\n",
       " 'Elena Gibson',\n",
       " 'Grace Somatomorphic Technique',\n",
       " 'Group green exercise',\n",
       " 'Gym',\n",
       " 'Gymkhana (equestrian)',\n",
       " 'Gyrotonic',\n",
       " 'Hot cycling',\n",
       " 'House Gymnastics',\n",
       " 'Hypertrophy',\n",
       " 'Hypertrophy-specific training',\n",
       " 'Hypopressive exercise',\n",
       " 'Illinois agility test',\n",
       " 'Incremental exercise',\n",
       " 'Indoor cycling',\n",
       " 'Indian club',\n",
       " 'Isoinertial',\n",
       " 'Isometric exercise',\n",
       " 'Isometric exercise device',\n",
       " 'Jogging',\n",
       " 'Kaatsu',\n",
       " 'Kegel exercise',\n",
       " 'Kinesiological stretching',\n",
       " 'Kinesiophobia',\n",
       " 'Kinomap',\n",
       " 'Leisure centre',\n",
       " 'Loaded march',\n",
       " 'Long-term complications of standing',\n",
       " 'Mad Dogg Athletics',\n",
       " 'Mall walking',\n",
       " 'Metabolic window',\n",
       " 'Movement assessment',\n",
       " 'Multi-stage fitness test',\n",
       " 'Syed Nadeemuddin',\n",
       " 'National Healthy Schools Programme',\n",
       " 'Netpulse',\n",
       " 'Neurobiological effects of physical exercise',\n",
       " 'Neutral spine',\n",
       " 'Nordic walking',\n",
       " 'November Project',\n",
       " 'Open kinetic chain exercises',\n",
       " 'Outdoor gym',\n",
       " 'Outline of running',\n",
       " 'P90X',\n",
       " 'Passive stretching',\n",
       " 'Paula method',\n",
       " 'Draft:Paula Method',\n",
       " 'Physical activity level',\n",
       " 'Physical culture',\n",
       " 'Physical education',\n",
       " 'Physical fitness',\n",
       " 'Physical strength',\n",
       " 'Physical therapy',\n",
       " 'Physique 57',\n",
       " 'Pilates',\n",
       " 'Plyometrics',\n",
       " 'PNF stretching',\n",
       " 'Pole dance',\n",
       " 'Pranayama',\n",
       " 'Prancercise',\n",
       " 'Prehabilitation',\n",
       " 'Progressive overload',\n",
       " 'Radio calisthenics',\n",
       " 'Rating of perceived exertion',\n",
       " 'Ratzeburg Test',\n",
       " 'Ready for Labour and Defence of the USSR',\n",
       " 'Rebound exercise',\n",
       " 'Riding school bus',\n",
       " 'Russian twist',\n",
       " 'Scaption',\n",
       " 'Sex diet',\n",
       " 'Sexercise',\n",
       " 'Shazzy Fitness',\n",
       " 'Shovelglove',\n",
       " 'Shuai Shou Gong',\n",
       " 'Side stitch',\n",
       " 'Sit and Be Fit',\n",
       " 'Sit-up',\n",
       " 'Outline of skiing',\n",
       " 'Skinny Bitch Fitness',\n",
       " 'Specialized strength exercise',\n",
       " 'SpecTrek',\n",
       " 'Sports Backers',\n",
       " 'Sports biomechanics',\n",
       " 'Sports periodization',\n",
       " 'Spot reduction',\n",
       " 'Squat (exercise)',\n",
       " 'Static stretching',\n",
       " 'Street workout',\n",
       " 'Strength training',\n",
       " 'Stretching',\n",
       " 'Super Slow',\n",
       " 'Sweatworking',\n",
       " 'Tae Bo',\n",
       " 'Tangolates',\n",
       " 'Test (assessment)',\n",
       " 'TriBalance Hot Yoga',\n",
       " 'Vacuum exercise',\n",
       " 'Vaginal weightlifting',\n",
       " 'Vascular occlusion training',\n",
       " 'VERB (program)',\n",
       " 'Viparita Karani',\n",
       " 'Warming up',\n",
       " 'Weight cutting',\n",
       " 'Weight training',\n",
       " 'Weighted clothing',\n",
       " 'Whole body vibration',\n",
       " 'World Fit',\n",
       " 'WWE Workout Series',\n",
       " 'XBX',\n",
       " 'The Y Plan',\n",
       " 'Yoga',\n",
       " 'Yogi Haider',\n",
       " 'Zero Time Exercise']"
      ]
     },
     "execution_count": 44,
     "metadata": {},
     "output_type": "execute_result"
    }
   ],
   "source": [
    "page_titles"
   ]
  },
  {
   "cell_type": "code",
   "execution_count": 47,
   "metadata": {
    "collapsed": false
   },
   "outputs": [
    {
     "data": {
      "text/plain": [
       "OrderedDict([('pageid', 7623176),\n",
       "             ('summary',\n",
       "              u'The following outline is provided as an overview of and topical guide to exercise: Exercise \\u2013 any bodily activity that enhances or maintains physical fitness and overall health and wellness. It is performed for various reasons including strengthening muscles and the cardiovascular system, honing athletic skills, weight loss or maintenance, as well as for the purpose of enjoyment'),\n",
       "             ('text',\n",
       "              u'The following outline is provided as an overview of and topical guide to exercise: Exercise \\u2013 any bodily activity that enhances or maintains physical fitness and overall health and wellness. It is performed for various reasons including strengthening muscles and the cardiovascular system, honing athletic skills, weight loss or maintenance, as well as for the purpose of enjoyment. Frequent and regular physical exercise boosts the immune system, and helps prevent the \"diseases of affluence\" such as heart disease, cardiovascular disease, Type 2 diabetes and obesity. Types of exercise Aerobic exercise Aerobic exercise \\u2013 Aerobics Circuit training Cycling Hiking Running Skipping rope Swimming Walking Power walking Anaerobic exercise Anaerobic exercise \\u2013 Body building Eccentric training Functional training Sprint (running) Weight training Strength training Strength training (by muscle to be strengthened; (c) = compound exercise, (i) = isolated exercise) Quadriceps (front of thighs) Leg extension (i) Leg press (c) Lunge (c) Squat (c) Hamstrings (back of thighs) Deadlift (c) Good-morning (c) Leg curl (i) Squat (c) Calves Calf raise (i) Pectorals (chest) Bench press (c) Chest fly (i) Dips Machine fly (i) Push-up (c) Lats and trapezius (back) Bent-over row (c) Chin-up (c) Pulldown (c) Pullup (c) Seated row (c) Shoulder shrug (i) Supine row (c) Deltoids (shoulders) Front raise (i) Head stand into Handstand push-up (c) Lateral raise (i) Military press (c) Rear delt raise (i) Shoulder press (c) Upright row (c) Biceps (front of arms) Biceps curl (i) Pull ups with a supinated grip Triceps (back of arms) Close-grip bench press (c) Dip (c) Pushdown (i) Triceps extension (i) Forearms Wrist curl (i) Wrist extension (i) Abdomen and obliques (belly) Crunch (i) Leg raise (c) Russian twist (c) Sit-up (c) Lower back Deadlift (c) Good-morning (c) Hyperextension (c) Extended length conditioning Calisthenics Calisthenics Abdominal exercise Calf-raises Crunches Dips Hyperextensions Jumping jacks Leg raises Lunges Plank Pull-ups Push-ups Sit-ups Squat jumps (Toyotas Box Jumps) Squats Stretching exercises Stretching \\u2013 Ballistic stretching Dynamic stretching PNF stretching Static stretching Passive stretching Specialized training methods Altitude training Boxing training Circuit training Complex training Cross training Endurance training Long slow distance Grip strength training Interval training Plyometrics (jump training) Strength training High intensity training Weight training Resistance training Training to failure Other Physical therapy Pilates Yoga Exercise and health Exercise trends Health benefits of exercise Aerobic conditioning Neurobiological effects of physical exercise - improves: Cognitive control Memory Stress management Physical fitness, including improving and maintaining these aspects of it: Accuracy Agility Balance Coordination Endurance Flexibility Power Speed Stamina Strength Prevention \\u2013 exercise helps prevent: Cancer Drug addiction Hypertension Major depressive disorder Neurodegenerative disorders Obesity Osteoporosis Type 2 Diabetes Dangers of exercise Cramps Dehydration Heat stroke Overtraining Sports injury Sprain \\u2013 pull or rupture ligaments Strain \\u2013 pull or rupture muscles Tendon rupture Achilles tendon rupture Terminology Reps \\u2013 Sets \\u2013 Workout \\u2013 Warmup \\u2013 Ripped \\u2013 Buff \\u2013 Recovery \\u2013 Nutritional Formula \\u2013 Dietary supplement \\u2013 Protein \\u2013 Whey protein \\u2013 Energy drink \\u2013 Snack bar \\u2013 Amino acid \\u2013 Creatine Vitamin B2 Vitamin B6 Vitamin B12 Biological Muscle \\u2013 Muscle tissue \\u2013 Muscle fiber \\u2013 Joint \\u2013 Tendon \\u2013 History of exercise History of aerobic exercise History of body building Exercise trends Exercise equipment List of exercise equipment Traditional Dumbbell Barbell Chin-up bar Kettlebell Treadmill Punching bag Metal bar Bench Other Abdomenizer Aerobie Air flow ball BOSU Balance board Baoding Balls Bicycle Bone exercise monitor Bowflex Bulgarian Bag Bullworker Carva Communications Specification for Fitness Equipment Cybex International Elliptical trainer Exercise machine Exercise ball Exertris Fitness trail Galileo Gamebike Gravity boots Grippers Gymnasticon Heart rate monitor Hydraulic Exercise Equipment ICON Health & Fitness Indoor rower Inversion therapy Mallakhamb Medicine ball NordicTrack PCGamerBike Pedometer Pole dance Power tower Power-Plate Range of Motion Resistance band Roman chair RowPerfect Scrum machine Slant board Soloflex Stairmaster Stationary bicycle Thighmaster Total Gym Treadmill Treadmill Desk Treadmill with Vibration Isolation System Treadmill workstation Wheelchair trainer Wobble board Wrist roller Weight-lifting equipment Barbell Bench (weight training) Bowflex Bulgarian Bag Cable machine Captains of Crush Grippers Dip bar Dumbbell Halteres (ancient Greece) Indian clubs Iron rings IronMind Ivanko Barbell Company Kettlebell Leg press Power cage Shake Weight Smith machine Soloflex Total Gym Trap bar Universal Gym Equipment Weight machine York Barbell Exercise trends Exercise trends Physiology of exercise Exercise physiology Aerobic exercise Anaerobic exercise Exercise induced nausea Grip strength Muscle hypertrophy Overtraining Stretching Supercompensation Warming up Weight cutting Weight loss Health monitor Remote physiological monitoring Body fat percentage Blood pressure Heart rate Pulse rate Respiration rate Miscellaneous concepts Personal trainer Weighted clothing Significant people of physical fitness Roger Bannister Lance Armstrong John Basedow Robyn Landis Joseph Pilates Susan Powter Arnold Schwarzenegger Jack LaLanne Erwan Le Corre Lists List of exercise equipment add pictures List of weight training exercises See also Physical fitness Outline of health Outline of nutrition Outline of sports References External links Yahoo! Health Alberta Centre for Active Living Physical Activity @ Work website American College of Sports Medicine website'),\n",
       "             ('html',\n",
       "              u'<p>The following outline is provided as an overview of and topical guide to exercise:</p>\\n<p><b>Exercise</b> \\u2013 any bodily activity that enhances or maintains physical fitness and overall health and wellness. It is performed for various reasons including strengthening muscles and the cardiovascular system, honing athletic skills, weight loss or maintenance, as well as for the purpose of enjoyment. Frequent and regular physical exercise boosts the immune system, and helps prevent the \"diseases of affluence\" such as heart disease, cardiovascular disease, Type 2 diabetes and obesity.</p>\\n\\n<h2><span id=\"Types_of_exercise\">Types of exercise</span></h2>\\n<h3><span id=\"Aerobic_exercise\">Aerobic exercise</span></h3>\\n\\n<p>Aerobic exercise \\u2013</p>\\n<ul><li>Aerobics</li>\\n<li>Circuit training</li>\\n<li>Cycling</li>\\n<li>Hiking</li>\\n<li>Running</li>\\n<li>Skipping rope</li>\\n<li>Swimming</li>\\n<li>Walking</li>\\n<li>Power walking</li>\\n</ul><h3><span id=\"Anaerobic_exercise\">Anaerobic exercise</span></h3>\\n<p>Anaerobic exercise \\u2013</p>\\n<ul><li>Body building</li>\\n<li>Eccentric training</li>\\n<li>Functional training</li>\\n<li>Sprint (running)</li>\\n<li>Weight training</li>\\n</ul><h4><span id=\"Strength_training\">Strength training</span></h4>\\n<p>Strength training (by muscle to be strengthened; (c) = compound exercise, (i) = isolated exercise)</p>\\n<ul><li>Quadriceps (front of thighs)\\n<ul><li>Leg extension (i)</li>\\n<li>Leg press (c)</li>\\n<li>Lunge (c)</li>\\n<li>Squat (c)</li>\\n</ul></li>\\n<li>Hamstrings (back of thighs)\\n<ul><li>Deadlift (c)</li>\\n<li>Good-morning (c)</li>\\n<li>Leg curl (i)</li>\\n<li>Squat (c)</li>\\n</ul></li>\\n<li>Calves\\n<ul><li>Calf raise (i)</li>\\n</ul></li>\\n<li>Pectorals (chest)\\n<ul><li>Bench press (c)</li>\\n<li>Chest fly (i)</li>\\n<li>Dips</li>\\n<li>Machine fly (i)</li>\\n<li>Push-up (c)</li>\\n</ul></li>\\n<li>Lats and trapezius (back)\\n<ul><li>Bent-over row (c)</li>\\n<li>Chin-up (c)</li>\\n<li>Pulldown (c)</li>\\n<li>Pullup (c)</li>\\n<li>Seated row (c)</li>\\n<li>Shoulder shrug (i)</li>\\n<li>Supine row (c)</li>\\n</ul></li>\\n<li>Deltoids (shoulders)\\n<ul><li>Front raise (i)</li>\\n<li>Head stand into Handstand push-up (c)</li>\\n<li>Lateral raise (i)</li>\\n<li>Military press (c)</li>\\n<li>Rear delt raise (i)</li>\\n<li>Shoulder press (c)</li>\\n<li>Upright row (c)</li>\\n</ul></li>\\n<li>Biceps (front of arms)\\n<ul><li>Biceps curl (i)</li>\\n<li>Pull ups with a supinated grip</li>\\n</ul></li>\\n<li>Triceps (back of arms)\\n<ul><li>Close-grip bench press (c)</li>\\n<li>Dip (c)</li>\\n<li>Pushdown (i)</li>\\n<li>Triceps extension (i)</li>\\n</ul></li>\\n<li>Forearms\\n<ul><li>Wrist curl (i)</li>\\n<li>Wrist extension (i)</li>\\n</ul></li>\\n<li>Abdomen and obliques (belly)\\n<ul><li>Crunch (i)</li>\\n<li>Leg raise (c)</li>\\n<li>Russian twist (c)</li>\\n<li>Sit-up (c)</li>\\n</ul></li>\\n<li>Lower back\\n<ul><li>Deadlift (c)</li>\\n<li>Good-morning (c)</li>\\n<li>Hyperextension (c)</li>\\n</ul></li>\\n<li>Extended length conditioning</li>\\n</ul><h3><span id=\"Calisthenics\">Calisthenics</span></h3>\\n<p>Calisthenics</p>\\n<ul><li>Abdominal exercise</li>\\n<li>Calf-raises</li>\\n<li>Crunches</li>\\n<li>Dips</li>\\n<li>Hyperextensions</li>\\n<li>Jumping jacks</li>\\n<li>Leg raises</li>\\n<li>Lunges</li>\\n<li>Plank</li>\\n<li>Pull-ups</li>\\n<li>Push-ups</li>\\n<li>Sit-ups</li>\\n<li>Squat jumps (Toyotas/Box Jumps)</li>\\n<li>Squats</li>\\n</ul><h3><span id=\"Stretching_exercises\">Stretching exercises</span></h3>\\n<p>Stretching \\u2013</p>\\n<ul><li>Ballistic stretching</li>\\n<li>Dynamic stretching</li>\\n<li>PNF stretching</li>\\n<li>Static stretching\\n<ul><li>Passive stretching</li>\\n</ul></li>\\n</ul><h3><span id=\"Specialized_training_methods\">Specialized training methods</span></h3>\\n<ul><li>Altitude training</li>\\n<li>Boxing training</li>\\n<li>Circuit training</li>\\n<li>Complex training</li>\\n<li>Cross training</li>\\n<li>Endurance training\\n<ul><li>Long slow distance</li>\\n</ul></li>\\n<li>Grip strength training</li>\\n<li>Interval training</li>\\n<li>Plyometrics (jump training)</li>\\n<li>Strength training\\n<ul><li>High intensity training</li>\\n<li>Weight training\\n<ul><li>Resistance training</li>\\n<li>Training to failure</li>\\n</ul></li>\\n</ul></li>\\n</ul><h3><span id=\"Other\">Other</span></h3>\\n<ul><li>Physical therapy</li>\\n<li>Pilates</li>\\n<li>Yoga</li>\\n</ul><h2><span id=\"Exercise_and_health\">Exercise and health</span></h2>\\n<ul><li>Exercise trends</li>\\n</ul><h3><span id=\"Health_benefits_of_exercise\">Health benefits of exercise</span></h3>\\n<ul><li>Aerobic conditioning</li>\\n<li>Neurobiological effects of physical exercise - improves:\\n<ul><li>Cognitive control</li>\\n<li>Memory</li>\\n<li>Stress management</li>\\n</ul></li>\\n<li>Physical fitness, including improving and maintaining these aspects of it:\\n<ul><li>Accuracy</li>\\n<li>Agility</li>\\n<li>Balance</li>\\n<li>Coordination</li>\\n<li>Endurance</li>\\n<li>Flexibility</li>\\n<li>Power</li>\\n<li>Speed</li>\\n<li>Stamina</li>\\n<li>Strength</li>\\n</ul></li>\\n<li>Prevention \\u2013 exercise helps prevent:\\n<ul><li>Cancer</li>\\n<li>Drug addiction</li>\\n<li>Hypertension</li>\\n<li>Major depressive disorder</li>\\n<li>Neurodegenerative disorders</li>\\n<li>Obesity</li>\\n<li>Osteoporosis</li>\\n<li>Type 2 Diabetes</li>\\n</ul></li>\\n</ul><h3><span id=\"Dangers_of_exercise\">Dangers of exercise</span></h3>\\n<ul><li>Cramps</li>\\n<li>Dehydration</li>\\n<li>Heat stroke</li>\\n<li>Overtraining</li>\\n<li>Sports injury\\n<ul><li>Sprain \\u2013 pull or rupture ligaments</li>\\n<li>Strain \\u2013 pull or rupture muscles</li>\\n<li>Tendon rupture\\n<ul><li>Achilles tendon rupture</li>\\n</ul></li>\\n</ul></li>\\n</ul><h2><span id=\"Terminology\">Terminology</span></h2>\\n<ul><li>Reps \\u2013</li>\\n<li>Sets \\u2013</li>\\n<li>Workout \\u2013</li>\\n<li>Warmup \\u2013</li>\\n<li>Ripped \\u2013</li>\\n<li>Buff \\u2013</li>\\n<li>Recovery \\u2013</li>\\n</ul><dl><dt>Nutritional</dt>\\n</dl><ul><li>Formula \\u2013</li>\\n<li>Dietary supplement \\u2013</li>\\n<li>Protein \\u2013</li>\\n<li>Whey protein \\u2013</li>\\n<li>Energy drink \\u2013</li>\\n<li>Snack bar \\u2013</li>\\n<li>Amino acid \\u2013</li>\\n<li>Creatine</li>\\n<li>Vitamin B2</li>\\n<li>Vitamin B6</li>\\n<li>Vitamin B12</li>\\n</ul><dl><dt>Biological</dt>\\n</dl><ul><li>Muscle \\u2013</li>\\n<li>Muscle tissue \\u2013</li>\\n<li>Muscle fiber \\u2013</li>\\n<li>Joint \\u2013</li>\\n<li>Tendon \\u2013</li>\\n</ul><h2><span id=\"History_of_exercise\">History of exercise</span></h2>\\n<ul><li>History of aerobic exercise</li>\\n<li>History of body building</li>\\n<li>Exercise trends</li>\\n</ul><h2><span id=\"Exercise_equipment\">Exercise equipment</span></h2>\\n<p>List of exercise equipment</p>\\n<h3><span id=\"Traditional\">Traditional</span></h3>\\n<ul><li><b>Dumbbell</b></li>\\n<li><b>Barbell</b></li>\\n<li><b>Chin-up bar</b></li>\\n<li><b>Kettlebell</b></li>\\n<li><b>Treadmill</b></li>\\n<li><b>Punching bag</b></li>\\n<li><b>Metal bar</b></li>\\n<li><b>Bench</b></li>\\n</ul><h3><span id=\"Other_2\">Other</span></h3>\\n<ul><li>Abdomenizer</li>\\n<li>Aerobie</li>\\n<li>Air flow ball</li>\\n<li>BOSU</li>\\n<li>Balance board</li>\\n<li>Baoding Balls</li>\\n<li>Bicycle</li>\\n<li>Bone exercise monitor</li>\\n<li>Bowflex</li>\\n<li>Bulgarian Bag</li>\\n<li>Bullworker</li>\\n<li>Carva</li>\\n<li>Communications Specification for Fitness Equipment</li>\\n<li>Cybex International</li>\\n<li>Elliptical trainer</li>\\n<li>Exercise machine</li>\\n<li>Exercise ball</li>\\n<li>Exertris</li>\\n<li>Fitness trail</li>\\n<li>Galileo</li>\\n<li>Gamebike</li>\\n<li>Gravity boots</li>\\n<li>Grippers</li>\\n<li>Gymnasticon</li>\\n<li>Heart rate monitor</li>\\n<li>Hydraulic Exercise Equipment</li>\\n<li>ICON Health &amp; Fitness</li>\\n<li>Indoor rower</li>\\n<li>Inversion therapy</li>\\n<li>Mallakhamb</li>\\n<li>Medicine ball</li>\\n<li>NordicTrack</li>\\n<li>PCGamerBike</li>\\n<li>Pedometer</li>\\n<li>Pole dance</li>\\n<li>Power tower</li>\\n<li>Power-Plate</li>\\n<li>Range of Motion</li>\\n<li>Resistance band</li>\\n<li>Roman chair</li>\\n<li>RowPerfect</li>\\n<li>Scrum machine</li>\\n<li>Slant board</li>\\n<li>Soloflex</li>\\n<li>Stairmaster</li>\\n<li>Stationary bicycle</li>\\n<li>Thighmaster</li>\\n<li>Total Gym</li>\\n<li>Treadmill\\n<ul><li>Treadmill Desk</li>\\n<li>Treadmill with Vibration Isolation System</li>\\n<li>Treadmill workstation</li>\\n</ul></li>\\n<li>Wheelchair trainer</li>\\n<li>Wobble board</li>\\n<li>Wrist roller</li>\\n</ul><h3><span id=\"Weight-lifting_equipment\">Weight-lifting equipment</span></h3>\\n<ul><li>Barbell</li>\\n<li>Bench (weight training)</li>\\n<li>Bowflex</li>\\n<li>Bulgarian Bag</li>\\n<li>Cable machine</li>\\n<li>Captains of Crush Grippers</li>\\n<li>Dip bar</li>\\n<li>Dumbbell</li>\\n<li>Halteres (ancient Greece)</li>\\n<li>Indian clubs</li>\\n<li>Iron rings</li>\\n<li>IronMind</li>\\n<li>Ivanko Barbell Company</li>\\n<li>Kettlebell</li>\\n<li>Leg press</li>\\n<li>Power cage</li>\\n<li>Shake Weight</li>\\n<li>Smith machine</li>\\n<li>Soloflex</li>\\n<li>Total Gym</li>\\n<li>Trap bar</li>\\n<li>Universal Gym Equipment</li>\\n<li>Weight machine</li>\\n<li>York Barbell</li>\\n</ul><h2><span id=\"Exercise_trends\">Exercise trends</span></h2>\\n<p>Exercise trends</p>\\n<h2><span id=\"Physiology_of_exercise\">Physiology of exercise</span></h2>\\n<p>Exercise physiology</p>\\n<ul><li>Aerobic exercise</li>\\n<li>Anaerobic exercise</li>\\n<li>Exercise induced nausea</li>\\n<li>Grip strength</li>\\n<li>Muscle hypertrophy</li>\\n<li>Overtraining</li>\\n<li>Stretching</li>\\n<li>Supercompensation</li>\\n<li>Warming up</li>\\n<li>Weight cutting</li>\\n<li>Weight loss</li>\\n</ul><h3><span id=\"Health_monitor\">Health monitor</span></h3>\\n<p>Remote physiological monitoring</p>\\n<ul><li>Body fat percentage</li>\\n<li>Blood pressure</li>\\n<li>Heart rate</li>\\n<li>Pulse rate</li>\\n<li>Respiration rate</li>\\n</ul><h2><span id=\"Miscellaneous_concepts\">Miscellaneous concepts</span></h2>\\n<ul><li>Personal trainer</li>\\n<li>Weighted clothing</li>\\n</ul><h2><span id=\"Significant_people_of_physical_fitness\">Significant people of physical fitness</span></h2>\\n<ul><li>Roger Bannister</li>\\n<li>Lance Armstrong</li>\\n<li>John Basedow</li>\\n<li>Robyn Landis</li>\\n<li>Joseph Pilates</li>\\n<li>Susan Powter</li>\\n<li>Arnold Schwarzenegger</li>\\n<li>Jack LaLanne</li>\\n<li>Erwan Le Corre</li>\\n</ul><h2><span id=\"Lists\">Lists</span></h2>\\n<ul><li>List of exercise equipment <b>add pictures</b></li>\\n<li>List of weight training exercises</li>\\n</ul><h2><span id=\"See_also\">See also</span></h2>\\n\\n<ul><li>Physical fitness</li>\\n<li>Outline of health</li>\\n<li>Outline of nutrition</li>\\n<li>Outline of sports</li>\\n</ul><h2><span id=\"References\">References</span></h2>\\n\\n<h2><span id=\"External_links\">External links</span></h2>\\n\\n<ul><li>Yahoo! Health</li>\\n<li>Alberta Centre for Active Living Physical Activity @ Work website</li>\\n<li>American College of Sports Medicine website</li>\\n</ul>')])"
      ]
     },
     "execution_count": 47,
     "metadata": {},
     "output_type": "execute_result"
    }
   ],
   "source": [
    "wiki.query_page('7623176')"
   ]
  },
  {
   "cell_type": "code",
   "execution_count": null,
   "metadata": {
    "collapsed": true
   },
   "outputs": [],
   "source": []
  },
  {
   "cell_type": "code",
   "execution_count": 97,
   "metadata": {
    "collapsed": false
   },
   "outputs": [],
   "source": [
    "page_info = []\n",
    "for i in page_ids:\n",
    "    page_info.append(wiki.query_page(str(i)))\n"
   ]
  },
  {
   "cell_type": "code",
   "execution_count": 100,
   "metadata": {
    "collapsed": false
   },
   "outputs": [
    {
     "data": {
      "text/plain": [
       "OrderedDict([('pageid', 189037),\n",
       "             ('summary',\n",
       "              u'Physical exercise is any bodily activity that enhances or maintains physical fitness and overall health and wellness. It is performed for various reasons, including increasing growth and development, preventing aging, strengthening muscles and the cardiovascular system, honing athletic skills, weight loss or maintenance, and also enjoyment'),\n",
       "             ('text',\n",
       "              u'Physical exercise is any bodily activity that enhances or maintains physical fitness and overall health and wellness. It is performed for various reasons, including increasing growth and development, preventing aging, strengthening muscles and the cardiovascular system, honing athletic skills, weight loss or maintenance, and also enjoyment. Frequent and regular physical exercise boosts the immune system and helps prevent \"diseases of affluence\" such as cardiovascular disease, type 2 diabetes, and obesity. It may also help prevent stress and depression, increase quality of sleep and act as a non-pharmaceutical sleep aid to treat diseases such as insomnia, help promote or maintain positive self-esteem, improve mental health, maintain steady digestion and treat constipation and gas, regulate fertility health, and augment an individuals sex appeal or body image, which has been found to be linked with higher levels of self-esteem. Childhood obesity is a growing global concern, and physical exercise may help decrease some of the effects of childhood and adult obesity. Some care providers call exercise the \"miracle\" or \"wonder\" drug\\u2014alluding to the wide variety of benefits that it can provide for many individuals. Aside from the health advantages, these benefits may include different social rewards for staying active while enjoying the environment of one\\u2019s culture. Many individuals choose to exercise publicly outdoors where they can congregate in groups, socialize, and appreciate life. In the United Kingdom two to four hours of light activity are recommended during working hours. This includes walking and standing. In the United States, the CDC ACSM consensus statement and the Surgeon Generals report states that every adult should participate in moderate exercise, such as walking, swimming, and household tasks, for a minimum of 30 minutes daily. Classification Physical exercises are generally grouped into three types, depending on the overall effect they have on the human body: Aerobic exercise is any physical activity that uses large muscle groups and causes the body to use more oxygen than it would while resting. The goal of aerobic exercise is to increase cardiovascular endurance. Examples of aerobic exercise include cycling, swimming, brisk walking, skipping rope, rowing, hiking, playing tennis, continuous training, and long slow distance training. Anaerobic exercise, which includes strength and resistance training, can firm, strengthen, and tone muscles, as well as improve bone strength, balance, and coordination. Examples of strength moves are push-ups, pull-ups, lunges, and bicep curls using dumbbells. Anaerobic exercise also include weight training, functional training, eccentric training, Interval training, sprinting, and high-intensity interval training increase short-term muscle strength. Flexibility exercises stretch and lengthen muscles. Activities such as stretching help to improve joint flexibility and keep muscles limber. The goal is to improve the range of motion which can reduce the chance of injury. Physical exercise can also include training that focuses on accuracy, agility, power, and speed. Sometimes the terms dynamic and static are used. Dynamic exercises such as steady running, tend to produce a lowering of the diastolic blood pressure during exercise, due to the improved blood flow. Conversely, static exercise (such as weight-lifting) can cause the systolic pressure to rise significantly (during the exercise). Health effects Physical exercise is important for maintaining physical fitness and can contribute to maintaining a healthy weight, regulating digestive health, building and maintaining healthy bone density, muscle strength, and joint mobility, promoting physiological well-being, reducing surgical risks, and strengthening the immune system. Some studies indicate that exercise may increase life expectancy and the overall quality of life. People who participate in moderate to high levels of physical exercise have a lower mortality rate compared to individuals who by comparison are not physically active. Moderate levels of exercise have been correlated with preventing aging by reducing inflammatory potential. The majority of the benefits from exercise are achieved with around 3500 metabolic equivalent (MET) minutes per week. For example, climbing stairs 10 minutes, vacuuming 15 minutes, gardening 20 minutes, running 20 minutes, and walking or bicycling for transportation 25 minutes on a daily basis would together achieve about 3000 MET minutes a week. A lack of physical activity causes approximately 6% of the burden of disease from coronary heart disease, 7% of type 2 diabetes, 10% of breast cancer and 10% of colon cancer worldwide. Overall, physical inactivity causes 9% of premature mortality worldwide. Fitness Individuals can increase fitness following increases in physical activity levels. Increases in muscle size from resistance training is primarily determined by diet and testosterone. This genetic variation in improvement from training is one of the key physiological differences between elite athletes and the larger population. Studies have shown that exercising in middle age leads to better physical ability later in life. Cardiovascular system The beneficial effect of exercise on the cardiovascular system is well documented. There is a direct correlation between physical inactivity and cardiovascular mortality, and physical inactivity is an independent risk factor for the development of coronary artery disease. Low levels of physical exercise increase the risk of cardiovascular diseases mortality. Children who participate in physical exercise experience greater loss of body fat and increased cardiovascular fitness. Studies have shown that academic stress in youth increases the risk of cardiovascular disease in later years; however, these risks can be greatly decreased with regular physical exercise. There is a dose-response relation between the amount of exercise performed from approximately 700 to 2000 kcal of energy expenditure per week and all-cause mortality and cardiovascular disease mortality in middle-aged and elderly populations. The greatest potential for reduced mortality is in the sedentary who become moderately active. Studies have shown that since heart disease is the leading cause of death in women, regular exercise in aging women leads to healthier cardiovascular profiles. Most beneficial effects of physical activity on cardiovascular disease mortality can be attained through moderate-intensity activity (40% to 60% of maximal oxygen uptake, depending on age). Persons who modify their behavior after myocardial infarction to include regular exercise have improved rates of survival. Persons who remain sedentary have the highest risk for all-cause and cardiovascular disease mortality. According to the American Heart Association, exercise reduces blood pressure, LDL and total cholesterol, and body weight. It increases HDL cholesterol, insulin sensitivity, and exercise tolerance. Immune system Although there have been hundreds of studies on exercise and the immune system, there is little direct evidence on its connection to illness. Epidemiological evidence suggests that moderate exercise has a beneficial effect on the human immune system; an effect which is modeled in a J curve. Moderate exercise has been associated with a 29% decreased incidence of upper respiratory tract infections (URTI), but studies of marathon runners found that their prolonged high-intensity exercise was associated with an increased risk of infection occurrence. However, another study did not find the effect. Immune cell functions are impaired following acute sessions of prolonged, high-intensity exercise, and some studies have found that athletes are at a higher risk for infections. Studies have shown that strenuous stress for long durations, such as training for a marathon, can suppress the immune system by decreasing the concentration of lymphocytes. The immune systems of athletes and nonathletes are generally similar. Athletes may have slightly elevated natural killer cell count and cytolytic action, but these are unlikely to be clinically significant. Vitamin C supplementation has been associated with lower incidence of URTIs in marathon runners. Biomarkers of inflammation such as C-reactive protein, which are associated with chronic diseases, are reduced in active individuals relative to sedentary individuals, and the positive effects of exercise may be due to its anti-inflammatory effects. In individuals with heart disease, exercise interventions lower blood levels of fibrinogen and C-reactive protein, an important cardiovascular risk marker. The depression in the immune system following acute bouts of exercise may be one of the mechanisms for this anti-inflammatory effect. Cancer A systematic review evaluated 45 studies that examined the relationship between physical activity and cancer survivorship. According to the study results \"There was consistent evidence from 27 observational studies that physical activity is associated with reduced all-cause, breast cancer\\u2013specific, and colon cancer\\u2013specific mortality\". Epigenetic effects Physical exercise was correlated with a lower methylation frequency of two tumor suppressor genes, CACNA2D3 and L3MBTL. Hypermethylation of CACNA2D3 is associated with gastric cancer, while hypermethylation of L3MBTL is associated with breast cancer, brain tumors and hematological malignancies. A recent study indicates that exercise results in reduced DNA methylation at CpG sites on genes associated with breast cancer. Cancer cachexia Physical exercise is becoming a widely accepted non-pharmacological intervention for the prevention and attenuation of cancer cachexia. \"Cachexia is a multiorganic syndrome associated with cancer, characterized by inflammation, body weight loss (at least 5%) and muscle and adipose tissue wasting\". Exercise triggers the activation of the transcriptional coactivator peroxisome proliferator-activated receptor gamma coactivator-1\\u03b1 (PGC-1\\u03b1), which suppresses FoxO- and NF-\\u03baB-dependent gene transcription during muscle atrophy that is induced by fasting or denervation; thus, PGC-1\\u03b1 may be a key intermediate responsible for the beneficial antiatrophic effects of physical exercise on cancer cachexia. The exercise-induced isoform PGC-1\\u03b14, which can repress myostatin and induce IGF1 and hypertrophy, is a potential drug target for treatment of cancer cachexia. Other factors, such as JUNB and SIRT1, that maintain skeletal muscle mass and promote hypertrophy are also induced with regular physical exercise. Neurobiological The neurobiological effects of physical exercise are numerous and involve a wide range of interrelated effects on brain structure, brain function, and cognition. A large body of research in humans has demonstrated that consistent aerobic exercise (e.g., 30 minutes every day) induces persistent improvements in certain cognitive functions, healthy alterations in gene expression in the brain, and beneficial forms of neuroplasticity and behavioral plasticity; some of these long-term effects include: increased neuron growth, increased neurological activity (e.g., c-Fos and BDNF signaling), improved stress coping, enhanced cognitive control of behavior, improved declarative, spatial, and working memory, and structural and functional improvements in brain structures and pathways associated with cognitive control and memory. The effects of exercise on cognition have important implications for improving academic performance in children and college students, improving adult productivity, preserving cognitive function in old age, preventing or treating certain neurological disorders, and improving overall quality of life. People who regularly perform aerobic exercise (e.g., running, jogging, brisk walking, swimming, and cycling) have greater scores on neuropsychological function and performance tests that measure certain cognitive functions, such as attentional control, inhibitory control, cognitive flexibility, working memory updating and capacity, declarative memory, spatial memory, and information processing speed. Aerobic exercise is also a potent antidepressant and euphoriant; as a result, consistent exercise produces general improvements in mood and self-esteem. Regular aerobic exercise improves symptoms associated with a variety of central nervous system disorders and may be used as an adjunct therapy for these disorders. There is clear evidence of exercise treatment efficacy for major depressive disorder and attention deficit hyperactivity disorder. A large body of preclinical evidence and emerging clinical evidence supports the use of exercise therapy for treating and preventing the development of drug addictions. Reviews of clinical evidence also support the use of exercise as an adjunct therapy for certain neurodegenerative disorders, particularly Alzheimer\\u2019s disease and Parkinsons disease. Regular exercise is also associated with a lower risk of developing neurodegenerative disorders. Regular exercise has also been proposed as an adjunct therapy for brain cancers. Depression Physical exercise has established efficacy as an antidepressant in individuals with depression and current medical evidence supports the use of exercise as both a preventive measure against and an adjunct therapy with antidepressant medication for depressive disorders. A July 2016 meta-analysis concluded that physical exercise improves overall quality of life in individuals with depression relative to controls. One systematic review noted that yoga may be effective in alleviating symptoms of prenatal depression. The biomolecular basis for exercise-induced antidepressant effects is believed to be a result of increased neurotrophic factor signaling, particularly brain-derived neurotrophic factor. Continuous aerobic exercise can induce a transient state of euphoria, colloquially known as a \"runners high\" in distance running or a \"rowers high\" in crew, through the increased biosynthesis of at least three euphoriant neurochemicals: anandamide (an endocannabinoid), \\u03b2-endorphin (an endogenous opioid), and phenethylamine (a trace amine and amphetamine analog). A systematic review noted that, although limited, some evidence suggests that the duration of engagement in a sedentary lifestyle is positively correlated with a risk of developing an anxiety disorder or experiencing anxiety symptoms. It noted that additional research is needed in order to confirm these findings. Sleep A 2010 review of published scientific research suggested that exercise generally improves sleep for most people, and helps sleep disorders such as insomnia. The optimum time to exercise may be 4 to 8 hours before bedtime, though exercise at any time of day is beneficial, with the possible exception of heavy exercise taken shortly before bedtime, which may disturb sleep. There is, in any case, insufficient evidence to draw detailed conclusions about the relationship between exercise and sleep. According to a 2005 study, exercise is the most recommended alternative to sleeping pills for resolving insomnia. Sleeping pills are more costly than to make time for a daily routine of staying fit, and may have dangerous side effects in the long run. Exercise can be a healthy, safe and inexpensive way to achieve more and better sleep. Excessive exercise Too much exercise can be harmful. Without proper rest, the chance of stroke or other circulation problems increases, and muscle tissue may develop slowly. Extremely intense, long-term cardiovascular exercise, as can be seen in athletes who train for multiple marathons, has been associated with scarring of the heart and heart rhythm abnormalities. Specifically, high cardiac output has been shown to cause enlargement of the left and right ventricle volumes, increased ventricle wall thickness, and greater cardiac mass. These changes further result in myocardial cell damage in the lining of the heart, leading to scar tissue and thickened walls. During these processes, the protein troponin increases in the bloodstream, indicating cardiac muscle cell death and increased stress on the heart itself. Inappropriate exercise can do more harm than good, with the definition of \\u201cinappropriate\\u201d varying according to the individual. For many activities, especially running and cycling, there are significant injuries that occur with poorly regimented exercise schedules. Injuries from accidents also remain a major concern, whereas the effects of increased exposure to air pollution seem only a minor concern. In extreme instances, over-exercising induces serious performance loss. Unaccustomed overexertion of muscles leads to rhabdomyolysis (damage to muscle) most often seen in new army recruits. Another danger is overtraining, in which the intensity or volume of training exceeds the bodys capacity to recover between bouts. One sign of Overtraining Syndrome (OTS) is suppressed immune function, with an increased incidence of upper respiratory tract infection (URTI). An increased incidence of URTIs is also associated with high volume intensity training, as well as with excessive exercise (EE), such as in a marathon. Stopping excessive exercise suddenly may create a change in mood. Exercise should be controlled by each bodys inherent limitations. While one set of joints and muscles may have the tolerance to withstand multiple marathons, another body may be damaged by 20 minutes of light jogging. This must be determined for each individual. Too much exercise may cause a woman to miss her periods, a symptom known as amenorrhea. This is a very serious condition which indicates a woman is pushing her body beyond its natural boundaries. Mechanism of effects Skeletal muscle Resistance training and subsequent consumption of a protein-rich meal promotes muscle hypertrophy and gains in muscle strength by stimulating myofibrillar muscle protein synthesis (MPS) and inhibiting muscle protein breakdown (MPB). The stimulation of muscle protein synthesis by resistance training occurs via phosphorylation of the mechanistic target of rapamycin (mTOR) and subsequent activation of mTORC1, which leads to protein biosynthesis in the ribosome via phosphorylation of mTORC1s immediate targets (the p70S6 kinase and the translation repressor protein 4EBP1). The suppression of muscle protein breakdown following food consumption occurs primarily via increases in plasma insulin; however, a suppression of MPB of comparable magnitude has also been shown to occur in humans from a sufficient elevation of plasma \\u03b2-hydroxy \\u03b2-methylbutyric acid. Aerobic exercise induces mitochondrial biogenesis and an increased capacity for oxidative phosphorylation in the mitochondria of skeletal muscle, which is one mechanism by which aerobic exercise enhances submaximal endurance performance. These effects occur via an exercise-induced increase in the intracellular AMP:ATP ratio, thereby triggering the activation of AMP-activated protein kinase (AMPK) which subsequently phosphorylates peroxisome proliferator-activated receptor gamma coactivator-1\\u03b1 (PGC-1\\u03b1), the master regulator of mitochondrial biogenesis. Other peripheral organs Developing research has demonstrated that many of the benefits of exercise are mediated through the role of skeletal muscle as an endocrine organ. That is, contracting muscles release multiple substances known as myokines which promote the growth of new tissue, tissue repair, and multiple anti-inflammatory functions, which in turn reduce the risk of developing various inflammatory diseases. Exercise reduces levels of cortisol, which causes many health problems, both physical and mental. Endurance exercise before meals lowers blood glucose more than the same exercise after meals. There is evidence that vigorous exercise (90\\u201395% of VO2 max) induces a greater degree of physiological cardiac hypertrophy than moderate exercise (40 to 70% of VO2 max), but it is unknown whether this has any effects on overall morbidity and or mortality. Both aerobic and anaerobic exercise work to increase the mechanical efficiency of the heart by increasing cardiac volume (aerobic exercise), or myocardial thickness (strength training). Ventricular hypertrophy, the thickening of the ventricular walls, is generally beneficial and healthy if it occurs in response to exercise. Central nervous system The persistent long-term neurobiological effects of regular physical exercise are believed to be mediated by transient exercise-induced increases in the concentration of neurotrophic factors (e.g., BDNF, IGF-1, VEGF, and GDNF) and other biomolecules in peripheral blood plasma, which subsequently cross the blood\\u2013brain barrier and blood\\u2013cerebrospinal fluid barrier and bind to their associated receptors in the brain. Upon binding to their receptors in cerebral vasculature and brain cells (i.e., neurons and glial cells), these biomolecules trigger intracellular signaling cascades that lead to neuroplastic biological responses \\u2013 such as neurogenesis, synaptogenesis, oligodendrogenesis, and angiogenesis, among others \\u2013 which ultimately mediate the exercise-induced improvements in cognitive function. Public health measures Multiple component community-wide campaigns are frequently used in an attempt to increase a populations level of physical activity. A 2015 Cochrane review, however, did not find evidence supporting a benefit. The quality of the underlying evidence was also poor. However, there is some evidence that school-based interventions can increase activity levels and fitness in children. Another Cochrane review found some evidence that certain types of exercise programmes, such as those involving gait, balance, co-ordination and functional tasks, can improve balance in older adults. Following progressive resistance training, older adults also respond with improved physical function. Survey of brief interventions promoting physical activity found that they are cost-effective, although there are variations between studies. Environmental approaches appear promising: signs that encourage the use of stairs, as well as community campaigns, may increase exercise levels. The city of Bogot\\xe1, Colombia, for example, blocks off 113 kilometers (70 mi) of roads on Sundays and holidays to make it easier for its citizens to get exercise. These pedestrian zones are part of an effort to combat chronic diseases, including obesity. To identify which public health strategies are effective, a Cochrane overview of reviews is in preparation. Physical exercise was said to decrease healthcare costs, increase the rate of job attendance, as well as increase the amount of effort women put into their jobs. Children will mimic the behavior of their parents in relation to physical exercise. Parents can thus promote physical activity and limit the amount of time children spend in front of screens which may decrease the risk of childhood obesity. Overweight children who participate in physical exercise experience greater loss of body fat and increased cardiovascular fitness. According to the Centers for Disease Control and Prevention in the United States, both children and adults should do 60 minutes or more of physical activity each day. Implementing physical exercise in the school system and ensuring an environment in which children can reduce barriers to maintain a healthy lifestyle is essential. Exercise trends Worldwide there has been a large shift towards less physically demanding work. This has been accompanied by increasing use of mechanized transportation, a greater prevalence of labor saving technology in the home, and fewer active recreational pursuits. Personal lifestyle changes however can correct the lack of physical exercise. Research in 2015 indicates integrating mindfulness to physical exercise interventions increases exercise adherence, self-efficacy and also has positive effects both psychologically and physiologically. Social and cultural variation Exercising looks different in every country, as do the motivations behind exercising. In some countries, people exercise primarily indoors, and in others, people exercise primarily outdoors. People may exercise for personal enjoyment, health and well-being, social interactions, competition or training, etc. These differences could potentially be attributed to geographic location, social tendencies, or otherwise. In Colombia, citizens value and celebrate the outdoor environments of their country. In many instances, they utilize outdoor activities as social gatherings to enjoy nature and their communities. In Bogot\\xe1, Colombia, a 70-mile stretch of road known as the Ciclov\\xeda is shut down each Sunday for bicyclists, runners, rollerbladers, skateboarders and other exercisers to work out and enjoy their surroundings. Similarly to Colombia, citizens of Cambodia tend to exercise socially outside. In this country, public gyms have become quite popular. People will congregate at these outdoor gyms not only to utilize the public facilities, but also to organize aerobics and dance sessions, which are open to the public. Sweden has also begun developing outdoor gyms, called utegym. These gyms are free to the public and are often placed in beautiful, picturesque environments. People will swim in rivers, use boats, and run through forests to stay healthy and enjoy the natural world around them. This is especially possible in Sweden due to its geographical location. Chinese exercise, particularly in the retired community, seems to be socially grounded. In the mornings, dances are held in public parks; these gatherings may include Latin dancing, ballroom dancing, tango, or even the jitterbug. Dancing in public allows people to interact with those with whom they would not normally interact, allowing for both health benefits and social benefits. These sociocultural variations in physical exercise show how people in different geographic locations and social climates have varying motivations and methods of exercising. Physical exercise can improve health and well-being, as well as enhance community ties and appreciation of natural beauty. Nutrition and recovery Proper nutrition is as important to health as exercise. When exercising, it becomes even more important to have a good diet to ensure that the body has the correct ratio of macronutrients while providing ample micronutrients, in order to aid the body with the recovery process following strenuous exercise. Active recovery is recommended after participating in physical exercise because it removes lactate from the blood more quickly than inactive recovery. Removing lactate from circulation allows for an easy decline in body temperature, which can also benefit the immune system, as an individual may be vulnerable to minor illnesses if the body temperature drops too abruptly after physical exercise. History The benefits of exercise have been known since antiquity. Marcus Cicero, around 65 BCE, stated: \"It is exercise alone that supports the spirits, and keeps the mind in vigor.\" Several mass exercise movements were started in the early twentieth century to realise the benefits of exercise. The first and most significant of these in the UK was the Womens League of Health and Beauty founded in 1930 by Mary Bagot Stack that had 166,000 members in 1937. However, the link between physical health and exercise (or lack of it) was only discovered in 1949 and reported in 1953 by a team led by Jerry Morris. Dr. Morris noted that men of similar social class and occupation (bus conductors versus bus drivers) had markedly different rates of heart attacks, depending on the level of exercise they got: bus drivers had a sedentary occupation and a higher incidence of heart disease, while bus conductors were forced to move continually and had a lower incidence of heart disease. This link had not previously been noted and was later confirmed by other researchers. Other animals Physical exercise has been shown to benefit a wide range of other mammals, as well as salmon, juvenile crocodiles, and at least one species of bird. However, several studies have shown that lizards display no benefit from exercise, leading them to be termed \"metabolically inflexible\". Indeed, damage from overtraining may occur following weeks of forced treadmill exercise in lizards. A number of studies of both rodents and humans have demonstrated that individual differences in both ability and propensity for exercise (i.e., voluntary exercise) have some genetic basis. Several studies of rodents have demonstrated that maternal or juvenile access to wheels that allow voluntary exercise can increase the propensity to run as adults. These studies further suggest that physical activity may be more \"programmable\" (for discusison, see Thrifty phenotype) than food intake. See also Notes References Further reading External links Media related to Fitness training at Wikimedia Commons MedLinePluss Topic on Exercise and Physical Fitness Science Dailys reference on Physical Exercise Guidance on the promotion and creation of physical environments that support increased levels of physical activity.\"Physical activity and the environment\".'),\n",
       "             ('html',\n",
       "              u'<p><b>Physical exercise</b> is any bodily activity that enhances or maintains physical fitness and overall health and wellness. It is performed for various reasons, including increasing growth and development, preventing aging, strengthening muscles and the cardiovascular system, honing athletic skills, weight loss or maintenance, and also enjoyment. Frequent and regular physical exercise boosts the immune system and helps prevent \"diseases of affluence\" such as cardiovascular disease, type 2 diabetes, and obesity. It may also help prevent stress and depression, increase quality of sleep and act as a non-pharmaceutical sleep aid to treat diseases such as insomnia, help promote or maintain positive self-esteem, improve mental health, maintain steady digestion and treat constipation and gas, regulate fertility health, and augment an individual\\'s sex appeal or body image, which has been found to be linked with higher levels of self-esteem. Childhood obesity is a growing global concern, and physical exercise may help decrease some of the effects of childhood and adult obesity. Some care providers call exercise the \"miracle\" or \"wonder\" drug\\u2014alluding to the wide variety of benefits that it can provide for many individuals. Aside from the health advantages, these benefits may include different social rewards for staying active while enjoying the environment of one\\u2019s culture. Many individuals choose to exercise publicly outdoors where they can congregate in groups, socialize, and appreciate life.</p>\\n<p>In the United Kingdom two to four hours of light activity are recommended during working hours. This includes walking and standing. In the United States, the CDC/ACSM consensus statement and the Surgeon General\\'s report states that every adult should participate in moderate exercise, such as walking, swimming, and household tasks, for a minimum of 30 minutes daily.</p>\\n\\n<h2><span id=\"Classification\">Classification</span></h2>\\n\\n<p>Physical exercises are generally grouped into three types, depending on the overall effect they have on the human body:</p>\\n<ul><li>Aerobic exercise is any physical activity that uses large muscle groups and causes the body to use more oxygen than it would while resting. The goal of aerobic exercise is to increase cardiovascular endurance. Examples of aerobic exercise include cycling, swimming, brisk walking, skipping rope, rowing, hiking, playing tennis, continuous training, and long slow distance training.</li>\\n<li>Anaerobic exercise, which includes strength and resistance training, can firm, strengthen, and tone muscles, as well as improve bone strength, balance, and coordination. Examples of strength moves are push-ups, pull-ups, lunges, and bicep curls using dumbbells. Anaerobic exercise also include weight training, functional training, eccentric training, Interval training, sprinting, and high-intensity interval training increase short-term muscle strength.</li>\\n<li>Flexibility exercises stretch and lengthen muscles. Activities such as stretching help to improve joint flexibility and keep muscles limber. The goal is to improve the range of motion which can reduce the chance of injury.</li>\\n</ul><p>Physical exercise can also include training that focuses on accuracy, agility, power, and speed.</p>\\n<p>Sometimes the terms \\'dynamic\\' and \\'static\\' are used. \\'Dynamic\\' exercises such as steady running, tend to produce a lowering of the diastolic blood pressure during exercise, due to the improved blood flow. Conversely, static exercise (such as weight-lifting) can cause the systolic pressure to rise significantly (during the exercise).</p>\\n<h2><span id=\"Health_effects\">Health effects</span></h2>\\n<p>Physical exercise is important for maintaining physical fitness and can contribute to maintaining a healthy weight, regulating digestive health, building and maintaining healthy bone density, muscle strength, and joint mobility, promoting physiological well-being, reducing surgical risks, and strengthening the immune system. Some studies indicate that exercise may increase life expectancy and the overall quality of life. People who participate in moderate to high levels of physical exercise have a lower mortality rate compared to individuals who by comparison are not physically active. Moderate levels of exercise have been correlated with preventing aging by reducing inflammatory potential. The majority of the benefits from exercise are achieved with around 3500 metabolic equivalent (MET) minutes per week. For example, climbing stairs 10 minutes, vacuuming 15 minutes, gardening 20 minutes, running 20 minutes, and walking or bicycling for transportation 25 minutes on a daily basis would <i>together</i> achieve about 3000 MET minutes a week. A lack of physical activity causes approximately 6% of the burden of disease from coronary heart disease, 7% of type 2 diabetes, 10% of breast cancer and 10% of colon cancer worldwide. Overall, physical inactivity causes 9% of premature mortality worldwide.</p>\\n<h3><span id=\"Fitness\">Fitness</span></h3>\\n<p>Individuals can increase fitness following increases in physical activity levels. Increases in muscle size from resistance training is primarily determined by diet and testosterone. This genetic variation in improvement from training is one of the key physiological differences between elite athletes and the larger population. Studies have shown that exercising in middle age leads to better physical ability later in life.</p>\\n<h3><span id=\"Cardiovascular_system\">Cardiovascular system</span></h3>\\n<p>The beneficial effect of exercise on the cardiovascular system is well documented. There is a direct correlation between physical inactivity and cardiovascular mortality, and physical inactivity is an independent risk factor for the development of coronary artery disease. Low levels of physical exercise increase the risk of cardiovascular diseases mortality.</p>\\n<p>Children who participate in physical exercise experience greater loss of body fat and increased cardiovascular fitness. Studies have shown that academic stress in youth increases the risk of cardiovascular disease in later years; however, these risks can be greatly decreased with regular physical exercise. There is a dose-response relation between the amount of exercise performed from approximately 700 to 2000 kcal of energy expenditure per week and all-cause mortality and cardiovascular disease mortality in middle-aged and elderly populations. The greatest potential for reduced mortality is in the sedentary who become moderately active. Studies have shown that since heart disease is the leading cause of death in women, regular exercise in aging women leads to healthier cardiovascular profiles. Most beneficial effects of physical activity on cardiovascular disease mortality can be attained through moderate-intensity activity (40% to 60% of maximal oxygen uptake, depending on age). Persons who modify their behavior after myocardial infarction to include regular exercise have improved rates of survival. Persons who remain sedentary have the highest risk for all-cause and cardiovascular disease mortality. According to the American Heart Association, exercise reduces blood pressure, LDL and total cholesterol, and body weight. It increases HDL cholesterol, insulin sensitivity, and exercise tolerance.</p>\\n<h3><span id=\"Immune_system\">Immune system</span></h3>\\n<p>Although there have been hundreds of studies on exercise and the immune system, there is little direct evidence on its connection to illness. Epidemiological evidence suggests that moderate exercise has a beneficial effect on the human immune system; an effect which is modeled in a J curve. Moderate exercise has been associated with a 29% decreased incidence of upper respiratory tract infections (URTI), but studies of marathon runners found that their prolonged high-intensity exercise was associated with an increased risk of infection occurrence. However, another study did not find the effect. Immune cell functions are impaired following acute sessions of prolonged, high-intensity exercise, and some studies have found that athletes are at a higher risk for infections. Studies have shown that strenuous stress for long durations, such as training for a marathon, can suppress the immune system by decreasing the concentration of lymphocytes. The immune systems of athletes and nonathletes are generally similar. Athletes may have slightly elevated natural killer cell count and cytolytic action, but these are unlikely to be clinically significant.</p>\\n<p>Vitamin C supplementation has been associated with lower incidence of URTIs in marathon runners.</p>\\n<p>Biomarkers of inflammation such as C-reactive protein, which are associated with chronic diseases, are reduced in active individuals relative to sedentary individuals, and the positive effects of exercise may be due to its anti-inflammatory effects. In individuals with heart disease, exercise interventions lower blood levels of fibrinogen and C-reactive protein, an important cardiovascular risk marker. The depression in the immune system following acute bouts of exercise may be one of the mechanisms for this anti-inflammatory effect.</p>\\n<h3><span id=\"Cancer\">Cancer</span></h3>\\n<p>A systematic review evaluated 45 studies that examined the relationship between physical activity and cancer survivorship. According to the study results \"There was consistent evidence from 27 observational studies that physical activity is associated with reduced all-cause, breast cancer\\u2013specific, and colon cancer\\u2013specific mortality\".</p>\\n<h4><span id=\"Epigenetic_effects\">Epigenetic effects</span></h4>\\n<p>Physical exercise was correlated with a lower methylation frequency of two tumor suppressor genes, CACNA2D3 and L3MBTL. Hypermethylation of CACNA2D3 is associated with gastric cancer, while hypermethylation of L3MBTL is associated with breast cancer, brain tumors and hematological malignancies. A recent study indicates that exercise results in reduced DNA methylation at CpG sites on genes associated with breast cancer.</p>\\n<h4><span id=\"Cancer_cachexia\">Cancer cachexia</span></h4>\\n<p>Physical exercise is becoming a widely accepted non-pharmacological intervention for the prevention and attenuation of cancer cachexia. \"Cachexia is a multiorganic syndrome associated with cancer, characterized by inflammation, body weight loss (at least 5%) and muscle and adipose tissue wasting\". Exercise triggers the activation of the transcriptional coactivator peroxisome proliferator-activated receptor gamma coactivator-1\\u03b1 (PGC-1\\u03b1), which suppresses FoxO- and NF-\\u03baB-dependent gene transcription during muscle atrophy that is induced by fasting or denervation; thus, PGC-1\\u03b1 may be a key intermediate responsible for the beneficial antiatrophic effects of physical exercise on cancer cachexia. The exercise-induced isoform PGC-1\\u03b14, which can repress myostatin and induce IGF1 and hypertrophy, is a potential drug target for treatment of cancer cachexia. Other factors, such as JUNB and SIRT1, that maintain skeletal muscle mass and promote hypertrophy are also induced with regular physical exercise.</p>\\n<h3><span id=\"Neurobiological\">Neurobiological<span id=\"Brain_function\"></span></span></h3>\\n\\n\\n<p>The neurobiological effects of physical exercise are numerous and involve a wide range of interrelated effects on brain structure, brain function, and cognition. A large body of research in humans has demonstrated that consistent aerobic exercise (e.g., 30\\xa0minutes every day) induces persistent improvements in certain cognitive functions, healthy alterations in gene expression in the brain, and beneficial forms of neuroplasticity and behavioral plasticity; some of these long-term effects include: increased neuron growth, increased neurological activity (e.g., <span>c-Fos</span> and BDNF signaling), improved stress coping, enhanced cognitive control of behavior, improved declarative, spatial, and working memory, and structural and functional improvements in brain structures and pathways associated with cognitive control and memory. The effects of exercise on cognition have important implications for improving academic performance in children and college students, improving adult productivity, preserving cognitive function in old age, preventing or treating certain neurological disorders, and improving overall quality of life.</p>\\n<p>People who regularly perform aerobic exercise (e.g., running, jogging, brisk walking, swimming, and cycling) have greater scores on neuropsychological function and performance tests that measure certain cognitive functions, such as attentional control, inhibitory control, cognitive flexibility, working memory updating and capacity, declarative memory, spatial memory, and information processing speed. Aerobic exercise is also a potent antidepressant and euphoriant; as a result, consistent exercise produces general improvements in mood and self-esteem.</p>\\n<p>Regular aerobic exercise improves symptoms associated with a variety of central nervous system disorders and may be used as an adjunct therapy for these disorders. There is clear evidence of exercise treatment efficacy for major depressive disorder and attention deficit hyperactivity disorder. A large body of preclinical evidence and emerging clinical evidence supports the use of exercise therapy for treating and preventing the development of drug addictions. Reviews of clinical evidence also support the use of exercise as an adjunct therapy for certain neurodegenerative disorders, particularly Alzheimer\\u2019s disease and Parkinson\\'s disease. Regular exercise is also associated with a lower risk of developing neurodegenerative disorders. Regular exercise has also been proposed as an adjunct therapy for brain cancers.</p>\\n<h4><span id=\"Depression\">Depression</span></h4>\\n\\n<p>Physical exercise has established efficacy as an antidepressant in individuals with depression and current medical evidence supports the use of exercise as both a preventive measure against and an adjunct therapy with antidepressant medication for depressive disorders. A July 2016 meta-analysis concluded that physical exercise improves overall quality of life in individuals with depression relative to controls. One systematic review noted that yoga may be effective in alleviating symptoms of prenatal depression. The biomolecular basis for exercise-induced antidepressant effects is believed to be a result of increased neurotrophic factor signaling, particularly brain-derived neurotrophic factor.</p>\\n<p>Continuous aerobic exercise can induce a transient state of euphoria, colloquially known as a \"runner\\'s high\" in distance running or a \"rower\\'s high\" in crew, through the increased biosynthesis of at least three euphoriant neurochemicals: anandamide (an endocannabinoid), \\u03b2-endorphin (an endogenous opioid), and phenethylamine (a trace amine and amphetamine analog).</p>\\n<p>A systematic review noted that, although limited, some evidence suggests that the duration of engagement in a sedentary lifestyle is positively correlated with a risk of developing an anxiety disorder or experiencing anxiety symptoms. It noted that additional research is needed in order to confirm these findings.</p>\\n<h3><span id=\"Sleep\">Sleep</span></h3>\\n<p>A 2010 review of published scientific research suggested that exercise generally improves sleep for most people, and helps sleep disorders such as insomnia. The optimum time to exercise <i>may</i> be 4 to 8 hours before bedtime, though exercise at any time of day is beneficial, with the possible exception of heavy exercise taken shortly before bedtime, which may disturb sleep. There is, in any case, insufficient evidence to draw detailed conclusions about the relationship between exercise and sleep.</p>\\n<p>According to a 2005 study, exercise is the most recommended alternative to sleeping pills for resolving insomnia. Sleeping pills are more costly than to make time for a daily routine of staying fit, and may have dangerous side effects in the long run. Exercise can be a healthy, safe and inexpensive way to achieve more and better sleep.</p>\\n<h3><span id=\"Excessive_exercise\">Excessive exercise</span></h3>\\n<p>Too much exercise can be harmful. Without proper rest, the chance of stroke or other circulation problems increases, and muscle tissue may develop slowly. Extremely intense, long-term cardiovascular exercise, as can be seen in athletes who train for multiple marathons, has been associated with scarring of the heart and heart rhythm abnormalities. Specifically, high cardiac output has been shown to cause enlargement of the left and right ventricle volumes, increased ventricle wall thickness, and greater cardiac mass. These changes further result in myocardial cell damage in the lining of the heart, leading to scar tissue and thickened walls. During these processes, the protein troponin increases in the bloodstream, indicating cardiac muscle cell death and increased stress on the heart itself.</p>\\n<p>Inappropriate exercise can do more harm than good, with the definition of \\u201cinappropriate\\u201d varying according to the individual. For many activities, especially running and cycling, there are significant injuries that occur with poorly regimented exercise schedules. Injuries from accidents also remain a major concern, whereas the effects of increased exposure to air pollution seem only a minor concern.</p>\\n<p>In extreme instances, over-exercising induces serious performance loss. Unaccustomed overexertion of muscles leads to rhabdomyolysis (damage to muscle) most often seen in new army recruits. Another danger is overtraining, in which the intensity or volume of training exceeds the body\\'s capacity to recover between bouts. One sign of Overtraining Syndrome (OTS) is suppressed immune function, with an increased incidence of upper respiratory tract infection (URTI). An increased incidence of URTIs is also associated with high volume/intensity training, as well as with excessive exercise (EE), such as in a marathon.</p>\\n<p>Stopping excessive exercise suddenly may create a change in mood. Exercise should be controlled by each body\\'s inherent limitations. While one set of joints and muscles may have the tolerance to withstand multiple marathons, another body may be damaged by 20 minutes of light jogging. This must be determined for each individual.</p>\\n<p>Too much exercise may cause a woman to miss her periods, a symptom known as amenorrhea. This is a very serious condition which indicates a woman is pushing her body beyond its natural boundaries.</p>\\n<h2><span id=\"Mechanism_of_effects\">Mechanism of effects</span></h2>\\n<h3><span id=\"Skeletal_muscle\">Skeletal muscle</span></h3>\\n<p>Resistance training and subsequent consumption of a protein-rich meal promotes muscle hypertrophy and gains in muscle strength by stimulating myofibrillar muscle protein synthesis (MPS) and inhibiting muscle protein breakdown (MPB). The stimulation of muscle protein synthesis by resistance training occurs via phosphorylation of the mechanistic target of rapamycin (mTOR) and subsequent activation of mTORC1, which leads to protein biosynthesis in the ribosome via phosphorylation of mTORC1\\'s immediate targets (the p70S6 kinase and the translation repressor protein 4EBP1). The suppression of muscle protein breakdown following food consumption occurs primarily via increases in plasma insulin; however, a suppression of MPB of comparable magnitude has also been shown to occur in humans from a sufficient elevation of plasma \\u03b2-hydroxy \\u03b2-methylbutyric acid.</p>\\n<p>Aerobic exercise induces mitochondrial biogenesis and an increased capacity for oxidative phosphorylation in the mitochondria of skeletal muscle, which is one mechanism by which aerobic exercise enhances submaximal endurance performance. These effects occur via an exercise-induced increase in the intracellular AMP:ATP ratio, thereby triggering the activation of AMP-activated protein kinase (AMPK) which subsequently phosphorylates peroxisome proliferator-activated receptor gamma coactivator-1\\u03b1 (PGC-1\\u03b1), the master regulator of mitochondrial biogenesis.</p>\\n\\n<h3><span id=\"Other_peripheral_organs\">Other peripheral organs</span></h3>\\n\\n<p>Developing research has demonstrated that many of the benefits of exercise are mediated through the role of skeletal muscle as an endocrine organ. That is, contracting muscles release multiple substances known as myokines which promote the growth of new tissue, tissue repair, and multiple anti-inflammatory functions, which in turn reduce the risk of developing various inflammatory diseases. Exercise reduces levels of cortisol, which causes many health problems, both physical and mental. Endurance exercise before meals lowers blood glucose more than the same exercise after meals. There is evidence that vigorous exercise (90\\u201395% of VO<sub>2</sub> max) induces a greater degree of physiological cardiac hypertrophy than moderate exercise (40 to 70% of VO<sub>2</sub> max), but it is unknown whether this has any effects on overall morbidity and/or mortality. Both aerobic and anaerobic exercise work to increase the mechanical efficiency of the heart by increasing cardiac volume (aerobic exercise), or myocardial thickness (strength training). Ventricular hypertrophy, the thickening of the ventricular walls, is generally beneficial and healthy if it occurs in response to exercise.</p>\\n<h3><span id=\"Central_nervous_system\">Central nervous system</span></h3>\\n<p>The persistent long-term neurobiological effects of regular physical exercise are believed to be mediated by transient exercise-induced increases in the concentration of neurotrophic factors (e.g., BDNF, IGF-1, VEGF, and GDNF) and other biomolecules in peripheral blood plasma, which subsequently cross the blood\\u2013brain barrier and blood\\u2013cerebrospinal fluid barrier and bind to their associated receptors in the brain. Upon binding to their receptors in cerebral vasculature and brain cells (i.e., neurons and glial cells), these biomolecules trigger intracellular signaling cascades that lead to neuroplastic biological responses\\xa0\\u2013 such as neurogenesis, synaptogenesis, oligodendrogenesis, and angiogenesis, among others\\xa0\\u2013 which ultimately mediate the exercise-induced improvements in cognitive function.</p>\\n<h2><span id=\"Public_health_measures\">Public health measures</span></h2>\\n<p>Multiple component community-wide campaigns are frequently used in an attempt to increase a population\\'s level of physical activity. A 2015 Cochrane review, however, did not find evidence supporting a benefit. The quality of the underlying evidence was also poor. However, there is some evidence that school-based interventions can increase activity levels and fitness in children. Another Cochrane review found some evidence that certain types of exercise programmes, such as those involving gait, balance, co-ordination and functional tasks, can improve balance in older adults. Following progressive resistance training, older adults also respond with improved physical function. Survey of brief interventions promoting physical activity found that they are cost-effective, although there are variations between studies.</p>\\n<p>Environmental approaches appear promising: signs that encourage the use of stairs, as well as community campaigns, may increase exercise levels. The city of Bogot\\xe1, Colombia, for example, blocks off 113 kilometers (70\\xa0mi) of roads on Sundays and holidays to make it easier for its citizens to get exercise. These pedestrian zones are part of an effort to combat chronic diseases, including obesity.</p>\\n<p>To identify which public health strategies are effective, a Cochrane overview of reviews is in preparation.</p>\\n<p>Physical exercise was said to decrease healthcare costs, increase the rate of job attendance, as well as increase the amount of effort women put into their jobs.</p>\\n<p>Children will mimic the behavior of their parents in relation to physical exercise. Parents can thus promote physical activity and limit the amount of time children spend in front of screens which may decrease the risk of childhood obesity.</p>\\n<p>Overweight children who participate in physical exercise experience greater loss of body fat and increased cardiovascular fitness. According to the Centers for Disease Control and Prevention in the United States, both children and adults should do 60 minutes or more of physical activity each day. Implementing physical exercise in the school system and ensuring an environment in which children can reduce barriers to maintain a healthy lifestyle is essential.</p>\\n<h2><span id=\"Exercise_trends\">Exercise trends</span></h2>\\n\\n\\n<p>Worldwide there has been a large shift towards less physically demanding work. This has been accompanied by increasing use of mechanized transportation, a greater prevalence of labor saving technology in the home, and fewer active recreational pursuits. Personal lifestyle changes however can correct the lack of physical exercise.</p>\\n<p>Research in 2015 indicates integrating mindfulness to physical exercise interventions increases exercise adherence, self-efficacy and also has positive effects both psychologically and physiologically.</p>\\n<h3><span id=\"Social_and_cultural_variation\">Social and cultural variation</span></h3>\\n<p>Exercising looks different in every country, as do the motivations behind exercising. In some countries, people exercise primarily indoors, and in others, people exercise primarily outdoors. People may exercise for personal enjoyment, health and well-being, social interactions, competition or training, etc. These differences could potentially be attributed to geographic location, social tendencies, or otherwise.</p>\\n<p>In Colombia, citizens value and celebrate the outdoor environments of their country. In many instances, they utilize outdoor activities as social gatherings to enjoy nature and their communities. In Bogot\\xe1, Colombia, a 70-mile stretch of road known as the Ciclov\\xeda is shut down each Sunday for bicyclists, runners, rollerbladers, skateboarders and other exercisers to work out and enjoy their surroundings.</p>\\n<p>Similarly to Colombia, citizens of Cambodia tend to exercise socially outside. In this country, public gyms have become quite popular. People will congregate at these outdoor gyms not only to utilize the public facilities, but also to organize aerobics and dance sessions, which are open to the public.</p>\\n<p>Sweden has also begun developing outdoor gyms, called <i>utegym</i>. These gyms are free to the public and are often placed in beautiful, picturesque environments. People will swim in rivers, use boats, and run through forests to stay healthy and enjoy the natural world around them. This is especially possible in Sweden due to its geographical location.</p>\\n<p>Chinese exercise, particularly in the retired community, seems to be socially grounded. In the mornings, dances are held in public parks; these gatherings may include Latin dancing, ballroom dancing, tango, or even the jitterbug. Dancing in public allows people to interact with those with whom they would not normally interact, allowing for both health benefits and social benefits.</p>\\n<p>These sociocultural variations in physical exercise show how people in different geographic locations and social climates have varying motivations and methods of exercising. Physical exercise can improve health and well-being, as well as enhance community ties and appreciation of natural beauty.</p>\\n<h2><span id=\"Nutrition_and_recovery\">Nutrition and recovery</span></h2>\\n<p>Proper nutrition is as important to health as exercise. When exercising, it becomes even more important to have a good diet to ensure that the body has the correct ratio of macronutrients while providing ample micronutrients, in order to aid the body with the recovery process following strenuous exercise.</p>\\n<p>Active recovery is recommended after participating in physical exercise because it removes lactate from the blood more quickly than inactive recovery. Removing lactate from circulation allows for an easy decline in body temperature, which can also benefit the immune system, as an individual may be vulnerable to minor illnesses if the body temperature drops too abruptly after physical exercise.</p>\\n<h2><span id=\"History\">History</span></h2>\\n<p>The benefits of exercise have been known since antiquity. Marcus Cicero, around 65 BCE, stated: \"It is exercise alone that supports the spirits, and keeps the mind in vigor.\"</p>\\n<p>Several mass exercise movements were started in the early twentieth century to realise the benefits of exercise. The first and most significant of these in the UK was the Women\\'s League of Health and Beauty founded in 1930 by Mary Bagot Stack that had 166,000 members in 1937.</p>\\n<p>However, the link between physical health and exercise (or lack of it) was only discovered in 1949 and reported in 1953 by a team led by Jerry Morris. Dr. Morris noted that men of similar social class and occupation (bus conductors versus bus drivers) had markedly different rates of heart attacks, depending on the level of exercise they got: bus drivers had a sedentary occupation and a higher incidence of heart disease, while bus conductors were forced to move continually and had a lower incidence of heart disease. This link had not previously been noted and was later confirmed by other researchers.</p>\\n<h2><span id=\"Other_animals\">Other animals</span></h2>\\n<p>Physical exercise has been shown to benefit a wide range of other mammals, as well as salmon, juvenile crocodiles, and at least one species of bird.</p>\\n<p>However, several studies have shown that lizards display no benefit from exercise, leading them to be termed \"metabolically inflexible\". Indeed, damage from overtraining may occur following weeks of forced treadmill exercise in lizards.</p>\\n<p>A number of studies of both rodents and humans have demonstrated that individual differences in both ability and propensity for exercise (i.e., voluntary exercise) have some genetic basis.</p>\\n<p>Several studies of rodents have demonstrated that maternal  or juvenile access to wheels that allow voluntary exercise can increase the propensity to run as adults. These studies further suggest that physical activity may be more \"programmable\" (for discusison, see Thrifty phenotype) than food intake.</p>\\n<h2><span id=\"See_also\">See also</span></h2>\\n\\n\\n\\n\\n<h2><span id=\"Notes\">Notes</span></h2>\\n\\n<h2><span id=\"References\">References</span></h2>\\n\\n<h2><span id=\"Further_reading\">Further reading</span></h2>\\n\\n<h2><span id=\"External_links\">External links</span></h2>\\n<ul><li> Media related to Fitness training at Wikimedia Commons</li>\\n<li>MedLinePlus\\'s Topic on Exercise and Physical Fitness</li>\\n<li>Science Daily\\'s reference on Physical Exercise</li>\\n<li>Guidance on the promotion and creation of physical environments that support increased levels of physical activity.<cite class=\"citation web\">\"Physical activity and the environment\".</cite><span title=\"ctx_ver=Z39.88-2004&amp;rfr_id=info%3Asid%2Fen.wikipedia.org%3APhysical+exercise&amp;rft.btitle=Physical+activity+and+the+environment&amp;rft.genre=unknown&amp;rft_id=http%3A%2F%2Fwww.nice.org.uk%2FGuidance%2FPH8&amp;rft_val_fmt=info%3Aofi%2Ffmt%3Akev%3Amtx%3Abook\"><span>\\xa0</span></span></li>\\n</ul>')])"
      ]
     },
     "execution_count": 100,
     "metadata": {},
     "output_type": "execute_result"
    }
   ],
   "source": [
    "page_info[0]"
   ]
  },
  {
   "cell_type": "markdown",
   "metadata": {},
   "source": [
    "## Acquire: Write category info db"
   ]
  },
  {
   "cell_type": "code",
   "execution_count": 21,
   "metadata": {
    "collapsed": false,
    "scrolled": true
   },
   "outputs": [
    {
     "data": {
      "text/plain": [
       "[('Physical exercise', '34955640')]"
      ]
     },
     "execution_count": 21,
     "metadata": {},
     "output_type": "execute_result"
    }
   ],
   "source": [
    "zipped= zip(categories['categories'], cat_ids)\n",
    "zipped"
   ]
  },
  {
   "cell_type": "code",
   "execution_count": 28,
   "metadata": {
    "collapsed": false
   },
   "outputs": [
    {
     "name": "stdout",
     "output_type": "stream",
     "text": [
      "('Physical exercise', '34955640')\n",
      "Connected to server joshuacook.me.\n"
     ]
    }
   ],
   "source": [
    "for cat in zip(categories['categories'], cat_ids):\n",
    "    print (cat)\n",
    "    db.create_or_update_category_in_database(cat[1],cat[0])"
   ]
  },
  {
   "cell_type": "code",
   "execution_count": 11,
   "metadata": {
    "collapsed": false
   },
   "outputs": [
    {
     "name": "stdout",
     "output_type": "stream",
     "text": [
      "Connected to server joshuacook.me.\n",
      "Connected to server joshuacook.me.\n",
      "Connected to server joshuacook.me.\n",
      "Connected to server joshuacook.me.\n",
      "Connected to server joshuacook.me.\n",
      "Connected to server joshuacook.me.\n",
      "Connected to server joshuacook.me.\n",
      "Connected to server joshuacook.me.\n",
      "Connected to server joshuacook.me.\n",
      "Connected to server joshuacook.me.\n",
      "Connected to server joshuacook.me.\n",
      "Connected to server joshuacook.me.\n",
      "Connected to server joshuacook.me.\n",
      "Connected to server joshuacook.me.\n",
      "Connected to server joshuacook.me.\n",
      "Connected to server joshuacook.me.\n",
      "Connected to server joshuacook.me.\n",
      "Connected to server joshuacook.me.\n",
      "Connected to server joshuacook.me.\n",
      "Connected to server joshuacook.me.\n",
      "Connected to server joshuacook.me.\n",
      "Connected to server joshuacook.me.\n",
      "Connected to server joshuacook.me.\n",
      "Connected to server joshuacook.me.\n",
      "Connected to server joshuacook.me.\n",
      "Connected to server joshuacook.me.\n",
      "Connected to server joshuacook.me.\n",
      "Connected to server joshuacook.me.\n",
      "Connected to server joshuacook.me.\n",
      "Connected to server joshuacook.me.\n",
      "Connected to server joshuacook.me.\n",
      "Connected to server joshuacook.me.\n",
      "Connected to server joshuacook.me.\n",
      "Connected to server joshuacook.me.\n",
      "Connected to server joshuacook.me.\n",
      "Connected to server joshuacook.me.\n",
      "Connected to server joshuacook.me.\n",
      "Connected to server joshuacook.me.\n",
      "Connected to server joshuacook.me.\n",
      "Connected to server joshuacook.me.\n",
      "Connected to server joshuacook.me.\n",
      "Connected to server joshuacook.me.\n",
      "Connected to server joshuacook.me.\n",
      "Connected to server joshuacook.me.\n",
      "Connected to server joshuacook.me.\n",
      "Connected to server joshuacook.me.\n",
      "Connected to server joshuacook.me.\n",
      "Connected to server joshuacook.me.\n",
      "Connected to server joshuacook.me.\n",
      "Connected to server joshuacook.me.\n",
      "Connected to server joshuacook.me.\n",
      "Connected to server joshuacook.me.\n",
      "Connected to server joshuacook.me.\n",
      "Connected to server joshuacook.me.\n",
      "Connected to server joshuacook.me.\n",
      "Connected to server joshuacook.me.\n",
      "Connected to server joshuacook.me.\n",
      "Connected to server joshuacook.me.\n",
      "Connected to server joshuacook.me.\n",
      "Connected to server joshuacook.me.\n",
      "Connected to server joshuacook.me.\n",
      "Connected to server joshuacook.me.\n",
      "Connected to server joshuacook.me.\n",
      "Connected to server joshuacook.me.\n",
      "Connected to server joshuacook.me.\n",
      "Connected to server joshuacook.me.\n",
      "Connected to server joshuacook.me.\n",
      "Connected to server joshuacook.me.\n",
      "Connected to server joshuacook.me.\n",
      "Connected to server joshuacook.me.\n",
      "Connected to server joshuacook.me.\n",
      "Connected to server joshuacook.me.\n",
      "Connected to server joshuacook.me.\n",
      "Connected to server joshuacook.me.\n",
      "Connected to server joshuacook.me.\n",
      "Connected to server joshuacook.me.\n",
      "Connected to server joshuacook.me.\n",
      "Connected to server joshuacook.me.\n",
      "Connected to server joshuacook.me.\n",
      "Connected to server joshuacook.me.\n",
      "Connected to server joshuacook.me.\n",
      "Connected to server joshuacook.me.\n",
      "Connected to server joshuacook.me.\n",
      "Connected to server joshuacook.me.\n",
      "Connected to server joshuacook.me.\n",
      "Connected to server joshuacook.me.\n",
      "Connected to server joshuacook.me.\n",
      "Connected to server joshuacook.me.\n",
      "Connected to server joshuacook.me.\n",
      "Connected to server joshuacook.me.\n",
      "Connected to server joshuacook.me.\n",
      "Connected to server joshuacook.me.\n",
      "Connected to server joshuacook.me.\n",
      "Connected to server joshuacook.me.\n",
      "Connected to server joshuacook.me.\n",
      "Connected to server joshuacook.me.\n",
      "Connected to server joshuacook.me.\n",
      "Connected to server joshuacook.me.\n",
      "Connected to server joshuacook.me.\n",
      "Connected to server joshuacook.me.\n",
      "Connected to server joshuacook.me.\n",
      "Connected to server joshuacook.me.\n",
      "Connected to server joshuacook.me.\n",
      "Connected to server joshuacook.me.\n",
      "Connected to server joshuacook.me.\n",
      "Connected to server joshuacook.me.\n",
      "Connected to server joshuacook.me.\n",
      "Connected to server joshuacook.me.\n",
      "Connected to server joshuacook.me.\n",
      "Connected to server joshuacook.me.\n",
      "Connected to server joshuacook.me.\n",
      "Connected to server joshuacook.me.\n",
      "Connected to server joshuacook.me.\n",
      "Connected to server joshuacook.me.\n",
      "Connected to server joshuacook.me.\n",
      "Connected to server joshuacook.me.\n",
      "Connected to server joshuacook.me.\n",
      "Connected to server joshuacook.me.\n",
      "Connected to server joshuacook.me.\n",
      "Connected to server joshuacook.me.\n",
      "Connected to server joshuacook.me.\n",
      "Connected to server joshuacook.me.\n",
      "Connected to server joshuacook.me.\n",
      "Connected to server joshuacook.me.\n",
      "Connected to server joshuacook.me.\n",
      "Connected to server joshuacook.me.\n",
      "Connected to server joshuacook.me.\n",
      "Connected to server joshuacook.me.\n",
      "Connected to server joshuacook.me.\n",
      "Connected to server joshuacook.me.\n",
      "Connected to server joshuacook.me.\n",
      "Connected to server joshuacook.me.\n",
      "Connected to server joshuacook.me.\n",
      "Connected to server joshuacook.me.\n",
      "Connected to server joshuacook.me.\n",
      "Connected to server joshuacook.me.\n",
      "Connected to server joshuacook.me.\n",
      "Connected to server joshuacook.me.\n",
      "Connected to server joshuacook.me.\n",
      "Connected to server joshuacook.me.\n",
      "Connected to server joshuacook.me.\n",
      "Connected to server joshuacook.me.\n",
      "Connected to server joshuacook.me.\n",
      "Connected to server joshuacook.me.\n",
      "Connected to server joshuacook.me.\n",
      "Connected to server joshuacook.me.\n",
      "Connected to server joshuacook.me.\n",
      "Connected to server joshuacook.me.\n",
      "Connected to server joshuacook.me.\n",
      "Connected to server joshuacook.me.\n",
      "Connected to server joshuacook.me.\n",
      "Connected to server joshuacook.me.\n",
      "Connected to server joshuacook.me.\n",
      "Connected to server joshuacook.me.\n",
      "Connected to server joshuacook.me.\n",
      "Connected to server joshuacook.me.\n",
      "Connected to server joshuacook.me.\n",
      "Connected to server joshuacook.me.\n",
      "Connected to server joshuacook.me.\n",
      "Connected to server joshuacook.me.\n",
      "Connected to server joshuacook.me.\n",
      "Connected to server joshuacook.me.\n",
      "Connected to server joshuacook.me.\n",
      "Connected to server joshuacook.me.\n",
      "Connected to server joshuacook.me.\n",
      "Connected to server joshuacook.me.\n",
      "Connected to server joshuacook.me.\n",
      "Connected to server joshuacook.me.\n",
      "Connected to server joshuacook.me.\n",
      "Connected to server joshuacook.me.\n",
      "Connected to server joshuacook.me.\n",
      "Connected to server joshuacook.me.\n",
      "Connected to server joshuacook.me.\n",
      "Connected to server joshuacook.me.\n",
      "Connected to server joshuacook.me.\n",
      "Connected to server joshuacook.me.\n",
      "Connected to server joshuacook.me.\n",
      "Connected to server joshuacook.me.\n",
      "Connected to server joshuacook.me.\n",
      "Connected to server joshuacook.me.\n",
      "Connected to server joshuacook.me.\n",
      "Connected to server joshuacook.me.\n",
      "Connected to server joshuacook.me.\n",
      "Connected to server joshuacook.me.\n",
      "Connected to server joshuacook.me.\n",
      "Connected to server joshuacook.me.\n",
      "Connected to server joshuacook.me.\n",
      "Connected to server joshuacook.me.\n"
     ]
    }
   ],
   "source": [
    "for page in response['pages']:\n",
    "    db.create_or_update_page_in_database(page['pageid'], 34955640,\n",
    "                                         page['title'],\n",
    "                                         wiki.query_page(str(page['pageid']),\n",
    "                                         page['title'])['text'])"
   ]
  },
  {
   "cell_type": "code",
   "execution_count": 37,
   "metadata": {
    "collapsed": false,
    "scrolled": true
   },
   "outputs": [
    {
     "data": {
      "text/plain": [
       "OrderedDict([('pageid', 7623176),\n",
       "             ('summary',\n",
       "              u'The following outline is provided as an overview of and topical guide to exercise: Exercise \\u2013 any bodily activity that enhances or maintains physical fitness and overall health and wellness. It is performed for various reasons including strengthening muscles and the cardiovascular system, honing athletic skills, weight loss or maintenance, as well as for the purpose of enjoyment'),\n",
       "             ('text',\n",
       "              u'The following outline is provided as an overview of and topical guide to exercise: Exercise \\u2013 any bodily activity that enhances or maintains physical fitness and overall health and wellness. It is performed for various reasons including strengthening muscles and the cardiovascular system, honing athletic skills, weight loss or maintenance, as well as for the purpose of enjoyment. Frequent and regular physical exercise boosts the immune system, and helps prevent the \"diseases of affluence\" such as heart disease, cardiovascular disease, Type 2 diabetes and obesity. Types of exercise Aerobic exercise Aerobic exercise \\u2013 Aerobics Circuit training Cycling Hiking Running Skipping rope Swimming Walking Power walking Anaerobic exercise Anaerobic exercise \\u2013 Body building Eccentric training Functional training Sprint (running) Weight training Strength training Strength training (by muscle to be strengthened; (c) = compound exercise, (i) = isolated exercise) Quadriceps (front of thighs) Leg extension (i) Leg press (c) Lunge (c) Squat (c) Hamstrings (back of thighs) Deadlift (c) Good-morning (c) Leg curl (i) Squat (c) Calves Calf raise (i) Pectorals (chest) Bench press (c) Chest fly (i) Dips Machine fly (i) Push-up (c) Lats and trapezius (back) Bent-over row (c) Chin-up (c) Pulldown (c) Pullup (c) Seated row (c) Shoulder shrug (i) Supine row (c) Deltoids (shoulders) Front raise (i) Head stand into Handstand push-up (c) Lateral raise (i) Military press (c) Rear delt raise (i) Shoulder press (c) Upright row (c) Biceps (front of arms) Biceps curl (i) Pull ups with a supinated grip Triceps (back of arms) Close-grip bench press (c) Dip (c) Pushdown (i) Triceps extension (i) Forearms Wrist curl (i) Wrist extension (i) Abdomen and obliques (belly) Crunch (i) Leg raise (c) Russian twist (c) Sit-up (c) Lower back Deadlift (c) Good-morning (c) Hyperextension (c) Extended length conditioning Calisthenics Calisthenics Abdominal exercise Calf-raises Crunches Dips Hyperextensions Jumping jacks Leg raises Lunges Plank Pull-ups Push-ups Sit-ups Squat jumps (Toyotas Box Jumps) Squats Stretching exercises Stretching \\u2013 Ballistic stretching Dynamic stretching PNF stretching Static stretching Passive stretching Specialized training methods Altitude training Boxing training Circuit training Complex training Cross training Endurance training Long slow distance Grip strength training Interval training Plyometrics (jump training) Strength training High intensity training Weight training Resistance training Training to failure Other Physical therapy Pilates Yoga Exercise and health Exercise trends Health benefits of exercise Aerobic conditioning Neurobiological effects of physical exercise - improves: Cognitive control Memory Stress management Physical fitness, including improving and maintaining these aspects of it: Accuracy Agility Balance Coordination Endurance Flexibility Power Speed Stamina Strength Prevention \\u2013 exercise helps prevent: Cancer Drug addiction Hypertension Major depressive disorder Neurodegenerative disorders Obesity Osteoporosis Type 2 Diabetes Dangers of exercise Cramps Dehydration Heat stroke Overtraining Sports injury Sprain \\u2013 pull or rupture ligaments Strain \\u2013 pull or rupture muscles Tendon rupture Achilles tendon rupture Terminology Reps \\u2013 Sets \\u2013 Workout \\u2013 Warmup \\u2013 Ripped \\u2013 Buff \\u2013 Recovery \\u2013 Nutritional Formula \\u2013 Dietary supplement \\u2013 Protein \\u2013 Whey protein \\u2013 Energy drink \\u2013 Snack bar \\u2013 Amino acid \\u2013 Creatine Vitamin B2 Vitamin B6 Vitamin B12 Biological Muscle \\u2013 Muscle tissue \\u2013 Muscle fiber \\u2013 Joint \\u2013 Tendon \\u2013 History of exercise History of aerobic exercise History of body building Exercise trends Exercise equipment List of exercise equipment Traditional Dumbbell Barbell Chin-up bar Kettlebell Treadmill Punching bag Metal bar Bench Other Abdomenizer Aerobie Air flow ball BOSU Balance board Baoding Balls Bicycle Bone exercise monitor Bowflex Bulgarian Bag Bullworker Carva Communications Specification for Fitness Equipment Cybex International Elliptical trainer Exercise machine Exercise ball Exertris Fitness trail Galileo Gamebike Gravity boots Grippers Gymnasticon Heart rate monitor Hydraulic Exercise Equipment ICON Health & Fitness Indoor rower Inversion therapy Mallakhamb Medicine ball NordicTrack PCGamerBike Pedometer Pole dance Power tower Power-Plate Range of Motion Resistance band Roman chair RowPerfect Scrum machine Slant board Soloflex Stairmaster Stationary bicycle Thighmaster Total Gym Treadmill Treadmill Desk Treadmill with Vibration Isolation System Treadmill workstation Wheelchair trainer Wobble board Wrist roller Weight-lifting equipment Barbell Bench (weight training) Bowflex Bulgarian Bag Cable machine Captains of Crush Grippers Dip bar Dumbbell Halteres (ancient Greece) Indian clubs Iron rings IronMind Ivanko Barbell Company Kettlebell Leg press Power cage Shake Weight Smith machine Soloflex Total Gym Trap bar Universal Gym Equipment Weight machine York Barbell Exercise trends Exercise trends Physiology of exercise Exercise physiology Aerobic exercise Anaerobic exercise Exercise induced nausea Grip strength Muscle hypertrophy Overtraining Stretching Supercompensation Warming up Weight cutting Weight loss Health monitor Remote physiological monitoring Body fat percentage Blood pressure Heart rate Pulse rate Respiration rate Miscellaneous concepts Personal trainer Weighted clothing Significant people of physical fitness Roger Bannister Lance Armstrong John Basedow Robyn Landis Joseph Pilates Susan Powter Arnold Schwarzenegger Jack LaLanne Erwan Le Corre Lists List of exercise equipment add pictures List of weight training exercises See also Physical fitness Outline of health Outline of nutrition Outline of sports References External links Yahoo! Health Alberta Centre for Active Living Physical Activity @ Work website American College of Sports Medicine website'),\n",
       "             ('html',\n",
       "              u'<p>The following outline is provided as an overview of and topical guide to exercise:</p>\\n<p><b>Exercise</b> \\u2013 any bodily activity that enhances or maintains physical fitness and overall health and wellness. It is performed for various reasons including strengthening muscles and the cardiovascular system, honing athletic skills, weight loss or maintenance, as well as for the purpose of enjoyment. Frequent and regular physical exercise boosts the immune system, and helps prevent the \"diseases of affluence\" such as heart disease, cardiovascular disease, Type 2 diabetes and obesity.</p>\\n\\n<h2><span id=\"Types_of_exercise\">Types of exercise</span></h2>\\n<h3><span id=\"Aerobic_exercise\">Aerobic exercise</span></h3>\\n\\n<p>Aerobic exercise \\u2013</p>\\n<ul><li>Aerobics</li>\\n<li>Circuit training</li>\\n<li>Cycling</li>\\n<li>Hiking</li>\\n<li>Running</li>\\n<li>Skipping rope</li>\\n<li>Swimming</li>\\n<li>Walking</li>\\n<li>Power walking</li>\\n</ul><h3><span id=\"Anaerobic_exercise\">Anaerobic exercise</span></h3>\\n<p>Anaerobic exercise \\u2013</p>\\n<ul><li>Body building</li>\\n<li>Eccentric training</li>\\n<li>Functional training</li>\\n<li>Sprint (running)</li>\\n<li>Weight training</li>\\n</ul><h4><span id=\"Strength_training\">Strength training</span></h4>\\n<p>Strength training (by muscle to be strengthened; (c) = compound exercise, (i) = isolated exercise)</p>\\n<ul><li>Quadriceps (front of thighs)\\n<ul><li>Leg extension (i)</li>\\n<li>Leg press (c)</li>\\n<li>Lunge (c)</li>\\n<li>Squat (c)</li>\\n</ul></li>\\n<li>Hamstrings (back of thighs)\\n<ul><li>Deadlift (c)</li>\\n<li>Good-morning (c)</li>\\n<li>Leg curl (i)</li>\\n<li>Squat (c)</li>\\n</ul></li>\\n<li>Calves\\n<ul><li>Calf raise (i)</li>\\n</ul></li>\\n<li>Pectorals (chest)\\n<ul><li>Bench press (c)</li>\\n<li>Chest fly (i)</li>\\n<li>Dips</li>\\n<li>Machine fly (i)</li>\\n<li>Push-up (c)</li>\\n</ul></li>\\n<li>Lats and trapezius (back)\\n<ul><li>Bent-over row (c)</li>\\n<li>Chin-up (c)</li>\\n<li>Pulldown (c)</li>\\n<li>Pullup (c)</li>\\n<li>Seated row (c)</li>\\n<li>Shoulder shrug (i)</li>\\n<li>Supine row (c)</li>\\n</ul></li>\\n<li>Deltoids (shoulders)\\n<ul><li>Front raise (i)</li>\\n<li>Head stand into Handstand push-up (c)</li>\\n<li>Lateral raise (i)</li>\\n<li>Military press (c)</li>\\n<li>Rear delt raise (i)</li>\\n<li>Shoulder press (c)</li>\\n<li>Upright row (c)</li>\\n</ul></li>\\n<li>Biceps (front of arms)\\n<ul><li>Biceps curl (i)</li>\\n<li>Pull ups with a supinated grip</li>\\n</ul></li>\\n<li>Triceps (back of arms)\\n<ul><li>Close-grip bench press (c)</li>\\n<li>Dip (c)</li>\\n<li>Pushdown (i)</li>\\n<li>Triceps extension (i)</li>\\n</ul></li>\\n<li>Forearms\\n<ul><li>Wrist curl (i)</li>\\n<li>Wrist extension (i)</li>\\n</ul></li>\\n<li>Abdomen and obliques (belly)\\n<ul><li>Crunch (i)</li>\\n<li>Leg raise (c)</li>\\n<li>Russian twist (c)</li>\\n<li>Sit-up (c)</li>\\n</ul></li>\\n<li>Lower back\\n<ul><li>Deadlift (c)</li>\\n<li>Good-morning (c)</li>\\n<li>Hyperextension (c)</li>\\n</ul></li>\\n<li>Extended length conditioning</li>\\n</ul><h3><span id=\"Calisthenics\">Calisthenics</span></h3>\\n<p>Calisthenics</p>\\n<ul><li>Abdominal exercise</li>\\n<li>Calf-raises</li>\\n<li>Crunches</li>\\n<li>Dips</li>\\n<li>Hyperextensions</li>\\n<li>Jumping jacks</li>\\n<li>Leg raises</li>\\n<li>Lunges</li>\\n<li>Plank</li>\\n<li>Pull-ups</li>\\n<li>Push-ups</li>\\n<li>Sit-ups</li>\\n<li>Squat jumps (Toyotas/Box Jumps)</li>\\n<li>Squats</li>\\n</ul><h3><span id=\"Stretching_exercises\">Stretching exercises</span></h3>\\n<p>Stretching \\u2013</p>\\n<ul><li>Ballistic stretching</li>\\n<li>Dynamic stretching</li>\\n<li>PNF stretching</li>\\n<li>Static stretching\\n<ul><li>Passive stretching</li>\\n</ul></li>\\n</ul><h3><span id=\"Specialized_training_methods\">Specialized training methods</span></h3>\\n<ul><li>Altitude training</li>\\n<li>Boxing training</li>\\n<li>Circuit training</li>\\n<li>Complex training</li>\\n<li>Cross training</li>\\n<li>Endurance training\\n<ul><li>Long slow distance</li>\\n</ul></li>\\n<li>Grip strength training</li>\\n<li>Interval training</li>\\n<li>Plyometrics (jump training)</li>\\n<li>Strength training\\n<ul><li>High intensity training</li>\\n<li>Weight training\\n<ul><li>Resistance training</li>\\n<li>Training to failure</li>\\n</ul></li>\\n</ul></li>\\n</ul><h3><span id=\"Other\">Other</span></h3>\\n<ul><li>Physical therapy</li>\\n<li>Pilates</li>\\n<li>Yoga</li>\\n</ul><h2><span id=\"Exercise_and_health\">Exercise and health</span></h2>\\n<ul><li>Exercise trends</li>\\n</ul><h3><span id=\"Health_benefits_of_exercise\">Health benefits of exercise</span></h3>\\n<ul><li>Aerobic conditioning</li>\\n<li>Neurobiological effects of physical exercise - improves:\\n<ul><li>Cognitive control</li>\\n<li>Memory</li>\\n<li>Stress management</li>\\n</ul></li>\\n<li>Physical fitness, including improving and maintaining these aspects of it:\\n<ul><li>Accuracy</li>\\n<li>Agility</li>\\n<li>Balance</li>\\n<li>Coordination</li>\\n<li>Endurance</li>\\n<li>Flexibility</li>\\n<li>Power</li>\\n<li>Speed</li>\\n<li>Stamina</li>\\n<li>Strength</li>\\n</ul></li>\\n<li>Prevention \\u2013 exercise helps prevent:\\n<ul><li>Cancer</li>\\n<li>Drug addiction</li>\\n<li>Hypertension</li>\\n<li>Major depressive disorder</li>\\n<li>Neurodegenerative disorders</li>\\n<li>Obesity</li>\\n<li>Osteoporosis</li>\\n<li>Type 2 Diabetes</li>\\n</ul></li>\\n</ul><h3><span id=\"Dangers_of_exercise\">Dangers of exercise</span></h3>\\n<ul><li>Cramps</li>\\n<li>Dehydration</li>\\n<li>Heat stroke</li>\\n<li>Overtraining</li>\\n<li>Sports injury\\n<ul><li>Sprain \\u2013 pull or rupture ligaments</li>\\n<li>Strain \\u2013 pull or rupture muscles</li>\\n<li>Tendon rupture\\n<ul><li>Achilles tendon rupture</li>\\n</ul></li>\\n</ul></li>\\n</ul><h2><span id=\"Terminology\">Terminology</span></h2>\\n<ul><li>Reps \\u2013</li>\\n<li>Sets \\u2013</li>\\n<li>Workout \\u2013</li>\\n<li>Warmup \\u2013</li>\\n<li>Ripped \\u2013</li>\\n<li>Buff \\u2013</li>\\n<li>Recovery \\u2013</li>\\n</ul><dl><dt>Nutritional</dt>\\n</dl><ul><li>Formula \\u2013</li>\\n<li>Dietary supplement \\u2013</li>\\n<li>Protein \\u2013</li>\\n<li>Whey protein \\u2013</li>\\n<li>Energy drink \\u2013</li>\\n<li>Snack bar \\u2013</li>\\n<li>Amino acid \\u2013</li>\\n<li>Creatine</li>\\n<li>Vitamin B2</li>\\n<li>Vitamin B6</li>\\n<li>Vitamin B12</li>\\n</ul><dl><dt>Biological</dt>\\n</dl><ul><li>Muscle \\u2013</li>\\n<li>Muscle tissue \\u2013</li>\\n<li>Muscle fiber \\u2013</li>\\n<li>Joint \\u2013</li>\\n<li>Tendon \\u2013</li>\\n</ul><h2><span id=\"History_of_exercise\">History of exercise</span></h2>\\n<ul><li>History of aerobic exercise</li>\\n<li>History of body building</li>\\n<li>Exercise trends</li>\\n</ul><h2><span id=\"Exercise_equipment\">Exercise equipment</span></h2>\\n<p>List of exercise equipment</p>\\n<h3><span id=\"Traditional\">Traditional</span></h3>\\n<ul><li><b>Dumbbell</b></li>\\n<li><b>Barbell</b></li>\\n<li><b>Chin-up bar</b></li>\\n<li><b>Kettlebell</b></li>\\n<li><b>Treadmill</b></li>\\n<li><b>Punching bag</b></li>\\n<li><b>Metal bar</b></li>\\n<li><b>Bench</b></li>\\n</ul><h3><span id=\"Other_2\">Other</span></h3>\\n<ul><li>Abdomenizer</li>\\n<li>Aerobie</li>\\n<li>Air flow ball</li>\\n<li>BOSU</li>\\n<li>Balance board</li>\\n<li>Baoding Balls</li>\\n<li>Bicycle</li>\\n<li>Bone exercise monitor</li>\\n<li>Bowflex</li>\\n<li>Bulgarian Bag</li>\\n<li>Bullworker</li>\\n<li>Carva</li>\\n<li>Communications Specification for Fitness Equipment</li>\\n<li>Cybex International</li>\\n<li>Elliptical trainer</li>\\n<li>Exercise machine</li>\\n<li>Exercise ball</li>\\n<li>Exertris</li>\\n<li>Fitness trail</li>\\n<li>Galileo</li>\\n<li>Gamebike</li>\\n<li>Gravity boots</li>\\n<li>Grippers</li>\\n<li>Gymnasticon</li>\\n<li>Heart rate monitor</li>\\n<li>Hydraulic Exercise Equipment</li>\\n<li>ICON Health &amp; Fitness</li>\\n<li>Indoor rower</li>\\n<li>Inversion therapy</li>\\n<li>Mallakhamb</li>\\n<li>Medicine ball</li>\\n<li>NordicTrack</li>\\n<li>PCGamerBike</li>\\n<li>Pedometer</li>\\n<li>Pole dance</li>\\n<li>Power tower</li>\\n<li>Power-Plate</li>\\n<li>Range of Motion</li>\\n<li>Resistance band</li>\\n<li>Roman chair</li>\\n<li>RowPerfect</li>\\n<li>Scrum machine</li>\\n<li>Slant board</li>\\n<li>Soloflex</li>\\n<li>Stairmaster</li>\\n<li>Stationary bicycle</li>\\n<li>Thighmaster</li>\\n<li>Total Gym</li>\\n<li>Treadmill\\n<ul><li>Treadmill Desk</li>\\n<li>Treadmill with Vibration Isolation System</li>\\n<li>Treadmill workstation</li>\\n</ul></li>\\n<li>Wheelchair trainer</li>\\n<li>Wobble board</li>\\n<li>Wrist roller</li>\\n</ul><h3><span id=\"Weight-lifting_equipment\">Weight-lifting equipment</span></h3>\\n<ul><li>Barbell</li>\\n<li>Bench (weight training)</li>\\n<li>Bowflex</li>\\n<li>Bulgarian Bag</li>\\n<li>Cable machine</li>\\n<li>Captains of Crush Grippers</li>\\n<li>Dip bar</li>\\n<li>Dumbbell</li>\\n<li>Halteres (ancient Greece)</li>\\n<li>Indian clubs</li>\\n<li>Iron rings</li>\\n<li>IronMind</li>\\n<li>Ivanko Barbell Company</li>\\n<li>Kettlebell</li>\\n<li>Leg press</li>\\n<li>Power cage</li>\\n<li>Shake Weight</li>\\n<li>Smith machine</li>\\n<li>Soloflex</li>\\n<li>Total Gym</li>\\n<li>Trap bar</li>\\n<li>Universal Gym Equipment</li>\\n<li>Weight machine</li>\\n<li>York Barbell</li>\\n</ul><h2><span id=\"Exercise_trends\">Exercise trends</span></h2>\\n<p>Exercise trends</p>\\n<h2><span id=\"Physiology_of_exercise\">Physiology of exercise</span></h2>\\n<p>Exercise physiology</p>\\n<ul><li>Aerobic exercise</li>\\n<li>Anaerobic exercise</li>\\n<li>Exercise induced nausea</li>\\n<li>Grip strength</li>\\n<li>Muscle hypertrophy</li>\\n<li>Overtraining</li>\\n<li>Stretching</li>\\n<li>Supercompensation</li>\\n<li>Warming up</li>\\n<li>Weight cutting</li>\\n<li>Weight loss</li>\\n</ul><h3><span id=\"Health_monitor\">Health monitor</span></h3>\\n<p>Remote physiological monitoring</p>\\n<ul><li>Body fat percentage</li>\\n<li>Blood pressure</li>\\n<li>Heart rate</li>\\n<li>Pulse rate</li>\\n<li>Respiration rate</li>\\n</ul><h2><span id=\"Miscellaneous_concepts\">Miscellaneous concepts</span></h2>\\n<ul><li>Personal trainer</li>\\n<li>Weighted clothing</li>\\n</ul><h2><span id=\"Significant_people_of_physical_fitness\">Significant people of physical fitness</span></h2>\\n<ul><li>Roger Bannister</li>\\n<li>Lance Armstrong</li>\\n<li>John Basedow</li>\\n<li>Robyn Landis</li>\\n<li>Joseph Pilates</li>\\n<li>Susan Powter</li>\\n<li>Arnold Schwarzenegger</li>\\n<li>Jack LaLanne</li>\\n<li>Erwan Le Corre</li>\\n</ul><h2><span id=\"Lists\">Lists</span></h2>\\n<ul><li>List of exercise equipment <b>add pictures</b></li>\\n<li>List of weight training exercises</li>\\n</ul><h2><span id=\"See_also\">See also</span></h2>\\n\\n<ul><li>Physical fitness</li>\\n<li>Outline of health</li>\\n<li>Outline of nutrition</li>\\n<li>Outline of sports</li>\\n</ul><h2><span id=\"References\">References</span></h2>\\n\\n<h2><span id=\"External_links\">External links</span></h2>\\n\\n<ul><li>Yahoo! Health</li>\\n<li>Alberta Centre for Active Living Physical Activity @ Work website</li>\\n<li>American College of Sports Medicine website</li>\\n</ul>')])"
      ]
     },
     "execution_count": 37,
     "metadata": {},
     "output_type": "execute_result"
    }
   ],
   "source": [
    "wiki.query_page('7623176')"
   ]
  },
  {
   "cell_type": "markdown",
   "metadata": {},
   "source": [
    "## Acquire :Query wiki by page id"
   ]
  },
  {
   "cell_type": "code",
   "execution_count": 42,
   "metadata": {
    "collapsed": false,
    "scrolled": true
   },
   "outputs": [
    {
     "data": {
      "text/plain": [
       "['pageid', 'summary', 'text', 'html']"
      ]
     },
     "execution_count": 42,
     "metadata": {},
     "output_type": "execute_result"
    }
   ],
   "source": [
    "page_response=wiki.query_page('7623176')\n",
    "pg_7623176_txt=page_response['text']\n",
    "page_response.keys()"
   ]
  },
  {
   "cell_type": "code",
   "execution_count": 26,
   "metadata": {
    "collapsed": false
   },
   "outputs": [
    {
     "data": {
      "text/plain": [
       "['pageid', 'summary', 'text', 'html']"
      ]
     },
     "execution_count": 26,
     "metadata": {},
     "output_type": "execute_result"
    }
   ],
   "source": [
    "page_response.keys()"
   ]
  },
  {
   "cell_type": "code",
   "execution_count": null,
   "metadata": {
    "collapsed": true
   },
   "outputs": [],
   "source": []
  },
  {
   "cell_type": "code",
   "execution_count": null,
   "metadata": {
    "collapsed": true
   },
   "outputs": [],
   "source": [
    "db.create_or_update_page_in_database('7623176',\n",
    "                                    '34955640',\n",
    "                                     'Outline of exercise',\n",
    "                                    page_response['text'])"
   ]
  },
  {
   "cell_type": "code",
   "execution_count": null,
   "metadata": {
    "collapsed": true
   },
   "outputs": [],
   "source": []
  }
 ],
 "metadata": {
  "anaconda-cloud": {},
  "kernelspec": {
   "display_name": "Python [conda root]",
   "language": "python",
   "name": "conda-root-py"
  },
  "language_info": {
   "codemirror_mode": {
    "name": "ipython",
    "version": 2
   },
   "file_extension": ".py",
   "mimetype": "text/x-python",
   "name": "python",
   "nbconvert_exporter": "python",
   "pygments_lexer": "ipython2",
   "version": "2.7.12"
  }
 },
 "nbformat": 4,
 "nbformat_minor": 1
}
